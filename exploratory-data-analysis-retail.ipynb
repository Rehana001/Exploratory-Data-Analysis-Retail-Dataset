{
 "cells": [
  {
   "cell_type": "code",
   "execution_count": 1,
   "id": "d999d897",
   "metadata": {
    "_cell_guid": "b1076dfc-b9ad-4769-8c92-a6c4dae69d19",
    "_uuid": "8f2839f25d086af736a60e9eeb907d3b93b6e0e5",
    "execution": {
     "iopub.execute_input": "2021-10-07T07:30:56.880047Z",
     "iopub.status.busy": "2021-10-07T07:30:56.878846Z",
     "iopub.status.idle": "2021-10-07T07:30:56.903241Z",
     "shell.execute_reply": "2021-10-07T07:30:56.903897Z",
     "shell.execute_reply.started": "2021-10-07T06:26:29.037458Z"
    },
    "papermill": {
     "duration": 0.066018,
     "end_time": "2021-10-07T07:30:56.904296",
     "exception": false,
     "start_time": "2021-10-07T07:30:56.838278",
     "status": "completed"
    },
    "tags": []
   },
   "outputs": [
    {
     "name": "stdout",
     "output_type": "stream",
     "text": [
      "/kaggle/input/store-data/SampleSuperstore.csv\n"
     ]
    }
   ],
   "source": [
    "# This Python 3 environment comes with many helpful analytics libraries installed\n",
    "# It is defined by the kaggle/python Docker image: https://github.com/kaggle/docker-python\n",
    "# For example, here's several helpful packages to load\n",
    "\n",
    "import numpy as np # linear algebra\n",
    "import pandas as pd # data processing, CSV file I/O (e.g. pd.read_csv)\n",
    "\n",
    "# Input data files are available in the read-only \"../input/\" directory\n",
    "# For example, running this (by clicking run or pressing Shift+Enter) will list all files under the input directory\n",
    "\n",
    "import os\n",
    "for dirname, _, filenames in os.walk('/kaggle/input'):\n",
    "    for filename in filenames:\n",
    "        print(os.path.join(dirname, filename))\n",
    "\n",
    "# You can write up to 20GB to the current directory (/kaggle/working/) that gets preserved as output when you create a version using \"Save & Run All\" \n",
    "# You can also write temporary files to /kaggle/temp/, but they won't be saved outside of the current session"
   ]
  },
  {
   "cell_type": "markdown",
   "id": "4eb380f2",
   "metadata": {
    "papermill": {
     "duration": 0.037007,
     "end_time": "2021-10-07T07:30:56.980766",
     "exception": false,
     "start_time": "2021-10-07T07:30:56.943759",
     "status": "completed"
    },
    "tags": []
   },
   "source": [
    "# Import Libraries"
   ]
  },
  {
   "cell_type": "code",
   "execution_count": 2,
   "id": "a05ce8ff",
   "metadata": {
    "execution": {
     "iopub.execute_input": "2021-10-07T07:30:57.057542Z",
     "iopub.status.busy": "2021-10-07T07:30:57.056584Z",
     "iopub.status.idle": "2021-10-07T07:31:00.553602Z",
     "shell.execute_reply": "2021-10-07T07:31:00.552897Z",
     "shell.execute_reply.started": "2021-10-07T06:26:29.074413Z"
    },
    "papermill": {
     "duration": 3.537114,
     "end_time": "2021-10-07T07:31:00.553933",
     "exception": false,
     "start_time": "2021-10-07T07:30:57.016819",
     "status": "completed"
    },
    "tags": []
   },
   "outputs": [
    {
     "data": {
      "text/html": [
       "        <script type=\"text/javascript\">\n",
       "        window.PlotlyConfig = {MathJaxConfig: 'local'};\n",
       "        if (window.MathJax) {MathJax.Hub.Config({SVG: {font: \"STIX-Web\"}});}\n",
       "        if (typeof require !== 'undefined') {\n",
       "        require.undef(\"plotly\");\n",
       "        requirejs.config({\n",
       "            paths: {\n",
       "                'plotly': ['https://cdn.plot.ly/plotly-2.4.2.min']\n",
       "            }\n",
       "        });\n",
       "        require(['plotly'], function(Plotly) {\n",
       "            window._Plotly = Plotly;\n",
       "        });\n",
       "        }\n",
       "        </script>\n",
       "        "
      ]
     },
     "metadata": {},
     "output_type": "display_data"
    }
   ],
   "source": [
    "import numpy as np \n",
    "import pandas as pd \n",
    "import matplotlib.pyplot as plt \n",
    "import seaborn as sns \n",
    "\n",
    "import plotly.offline as py\n",
    "py.init_notebook_mode(connected=True)\n",
    "import plotly.graph_objs as go\n",
    "from plotly import tools\n",
    "import plotly.figure_factory as ff"
   ]
  },
  {
   "cell_type": "markdown",
   "id": "31d496fd",
   "metadata": {
    "papermill": {
     "duration": 0.036135,
     "end_time": "2021-10-07T07:31:00.627090",
     "exception": false,
     "start_time": "2021-10-07T07:31:00.590955",
     "status": "completed"
    },
    "tags": []
   },
   "source": [
    "> * Now we will read the data through pandas library of python *"
   ]
  },
  {
   "cell_type": "code",
   "execution_count": 3,
   "id": "43dac218",
   "metadata": {
    "execution": {
     "iopub.execute_input": "2021-10-07T07:31:00.705539Z",
     "iopub.status.busy": "2021-10-07T07:31:00.704853Z",
     "iopub.status.idle": "2021-10-07T07:31:00.803490Z",
     "shell.execute_reply": "2021-10-07T07:31:00.804009Z",
     "shell.execute_reply.started": "2021-10-07T06:26:32.500489Z"
    },
    "papermill": {
     "duration": 0.140934,
     "end_time": "2021-10-07T07:31:00.804193",
     "exception": false,
     "start_time": "2021-10-07T07:31:00.663259",
     "status": "completed"
    },
    "tags": []
   },
   "outputs": [
    {
     "data": {
      "text/html": [
       "<div>\n",
       "<style scoped>\n",
       "    .dataframe tbody tr th:only-of-type {\n",
       "        vertical-align: middle;\n",
       "    }\n",
       "\n",
       "    .dataframe tbody tr th {\n",
       "        vertical-align: top;\n",
       "    }\n",
       "\n",
       "    .dataframe thead th {\n",
       "        text-align: right;\n",
       "    }\n",
       "</style>\n",
       "<table border=\"1\" class=\"dataframe\">\n",
       "  <thead>\n",
       "    <tr style=\"text-align: right;\">\n",
       "      <th></th>\n",
       "      <th>Ship Mode</th>\n",
       "      <th>Segment</th>\n",
       "      <th>Country</th>\n",
       "      <th>City</th>\n",
       "      <th>State</th>\n",
       "      <th>Postal Code</th>\n",
       "      <th>Region</th>\n",
       "      <th>Category</th>\n",
       "      <th>Sub-Category</th>\n",
       "      <th>Sales</th>\n",
       "      <th>Quantity</th>\n",
       "      <th>Discount</th>\n",
       "      <th>Profit</th>\n",
       "    </tr>\n",
       "  </thead>\n",
       "  <tbody>\n",
       "    <tr>\n",
       "      <th>0</th>\n",
       "      <td>Second Class</td>\n",
       "      <td>Consumer</td>\n",
       "      <td>United States</td>\n",
       "      <td>Henderson</td>\n",
       "      <td>Kentucky</td>\n",
       "      <td>42420</td>\n",
       "      <td>South</td>\n",
       "      <td>Furniture</td>\n",
       "      <td>Bookcases</td>\n",
       "      <td>261.9600</td>\n",
       "      <td>2</td>\n",
       "      <td>0.00</td>\n",
       "      <td>41.9136</td>\n",
       "    </tr>\n",
       "    <tr>\n",
       "      <th>1</th>\n",
       "      <td>Second Class</td>\n",
       "      <td>Consumer</td>\n",
       "      <td>United States</td>\n",
       "      <td>Henderson</td>\n",
       "      <td>Kentucky</td>\n",
       "      <td>42420</td>\n",
       "      <td>South</td>\n",
       "      <td>Furniture</td>\n",
       "      <td>Chairs</td>\n",
       "      <td>731.9400</td>\n",
       "      <td>3</td>\n",
       "      <td>0.00</td>\n",
       "      <td>219.5820</td>\n",
       "    </tr>\n",
       "    <tr>\n",
       "      <th>2</th>\n",
       "      <td>Second Class</td>\n",
       "      <td>Corporate</td>\n",
       "      <td>United States</td>\n",
       "      <td>Los Angeles</td>\n",
       "      <td>California</td>\n",
       "      <td>90036</td>\n",
       "      <td>West</td>\n",
       "      <td>Office Supplies</td>\n",
       "      <td>Labels</td>\n",
       "      <td>14.6200</td>\n",
       "      <td>2</td>\n",
       "      <td>0.00</td>\n",
       "      <td>6.8714</td>\n",
       "    </tr>\n",
       "    <tr>\n",
       "      <th>3</th>\n",
       "      <td>Standard Class</td>\n",
       "      <td>Consumer</td>\n",
       "      <td>United States</td>\n",
       "      <td>Fort Lauderdale</td>\n",
       "      <td>Florida</td>\n",
       "      <td>33311</td>\n",
       "      <td>South</td>\n",
       "      <td>Furniture</td>\n",
       "      <td>Tables</td>\n",
       "      <td>957.5775</td>\n",
       "      <td>5</td>\n",
       "      <td>0.45</td>\n",
       "      <td>-383.0310</td>\n",
       "    </tr>\n",
       "    <tr>\n",
       "      <th>4</th>\n",
       "      <td>Standard Class</td>\n",
       "      <td>Consumer</td>\n",
       "      <td>United States</td>\n",
       "      <td>Fort Lauderdale</td>\n",
       "      <td>Florida</td>\n",
       "      <td>33311</td>\n",
       "      <td>South</td>\n",
       "      <td>Office Supplies</td>\n",
       "      <td>Storage</td>\n",
       "      <td>22.3680</td>\n",
       "      <td>2</td>\n",
       "      <td>0.20</td>\n",
       "      <td>2.5164</td>\n",
       "    </tr>\n",
       "    <tr>\n",
       "      <th>5</th>\n",
       "      <td>Standard Class</td>\n",
       "      <td>Consumer</td>\n",
       "      <td>United States</td>\n",
       "      <td>Los Angeles</td>\n",
       "      <td>California</td>\n",
       "      <td>90032</td>\n",
       "      <td>West</td>\n",
       "      <td>Furniture</td>\n",
       "      <td>Furnishings</td>\n",
       "      <td>48.8600</td>\n",
       "      <td>7</td>\n",
       "      <td>0.00</td>\n",
       "      <td>14.1694</td>\n",
       "    </tr>\n",
       "    <tr>\n",
       "      <th>6</th>\n",
       "      <td>Standard Class</td>\n",
       "      <td>Consumer</td>\n",
       "      <td>United States</td>\n",
       "      <td>Los Angeles</td>\n",
       "      <td>California</td>\n",
       "      <td>90032</td>\n",
       "      <td>West</td>\n",
       "      <td>Office Supplies</td>\n",
       "      <td>Art</td>\n",
       "      <td>7.2800</td>\n",
       "      <td>4</td>\n",
       "      <td>0.00</td>\n",
       "      <td>1.9656</td>\n",
       "    </tr>\n",
       "    <tr>\n",
       "      <th>7</th>\n",
       "      <td>Standard Class</td>\n",
       "      <td>Consumer</td>\n",
       "      <td>United States</td>\n",
       "      <td>Los Angeles</td>\n",
       "      <td>California</td>\n",
       "      <td>90032</td>\n",
       "      <td>West</td>\n",
       "      <td>Technology</td>\n",
       "      <td>Phones</td>\n",
       "      <td>907.1520</td>\n",
       "      <td>6</td>\n",
       "      <td>0.20</td>\n",
       "      <td>90.7152</td>\n",
       "    </tr>\n",
       "    <tr>\n",
       "      <th>8</th>\n",
       "      <td>Standard Class</td>\n",
       "      <td>Consumer</td>\n",
       "      <td>United States</td>\n",
       "      <td>Los Angeles</td>\n",
       "      <td>California</td>\n",
       "      <td>90032</td>\n",
       "      <td>West</td>\n",
       "      <td>Office Supplies</td>\n",
       "      <td>Binders</td>\n",
       "      <td>18.5040</td>\n",
       "      <td>3</td>\n",
       "      <td>0.20</td>\n",
       "      <td>5.7825</td>\n",
       "    </tr>\n",
       "    <tr>\n",
       "      <th>9</th>\n",
       "      <td>Standard Class</td>\n",
       "      <td>Consumer</td>\n",
       "      <td>United States</td>\n",
       "      <td>Los Angeles</td>\n",
       "      <td>California</td>\n",
       "      <td>90032</td>\n",
       "      <td>West</td>\n",
       "      <td>Office Supplies</td>\n",
       "      <td>Appliances</td>\n",
       "      <td>114.9000</td>\n",
       "      <td>5</td>\n",
       "      <td>0.00</td>\n",
       "      <td>34.4700</td>\n",
       "    </tr>\n",
       "  </tbody>\n",
       "</table>\n",
       "</div>"
      ],
      "text/plain": [
       "        Ship Mode    Segment        Country             City       State  \\\n",
       "0    Second Class   Consumer  United States        Henderson    Kentucky   \n",
       "1    Second Class   Consumer  United States        Henderson    Kentucky   \n",
       "2    Second Class  Corporate  United States      Los Angeles  California   \n",
       "3  Standard Class   Consumer  United States  Fort Lauderdale     Florida   \n",
       "4  Standard Class   Consumer  United States  Fort Lauderdale     Florida   \n",
       "5  Standard Class   Consumer  United States      Los Angeles  California   \n",
       "6  Standard Class   Consumer  United States      Los Angeles  California   \n",
       "7  Standard Class   Consumer  United States      Los Angeles  California   \n",
       "8  Standard Class   Consumer  United States      Los Angeles  California   \n",
       "9  Standard Class   Consumer  United States      Los Angeles  California   \n",
       "\n",
       "   Postal Code Region         Category Sub-Category     Sales  Quantity  \\\n",
       "0        42420  South        Furniture    Bookcases  261.9600         2   \n",
       "1        42420  South        Furniture       Chairs  731.9400         3   \n",
       "2        90036   West  Office Supplies       Labels   14.6200         2   \n",
       "3        33311  South        Furniture       Tables  957.5775         5   \n",
       "4        33311  South  Office Supplies      Storage   22.3680         2   \n",
       "5        90032   West        Furniture  Furnishings   48.8600         7   \n",
       "6        90032   West  Office Supplies          Art    7.2800         4   \n",
       "7        90032   West       Technology       Phones  907.1520         6   \n",
       "8        90032   West  Office Supplies      Binders   18.5040         3   \n",
       "9        90032   West  Office Supplies   Appliances  114.9000         5   \n",
       "\n",
       "   Discount    Profit  \n",
       "0      0.00   41.9136  \n",
       "1      0.00  219.5820  \n",
       "2      0.00    6.8714  \n",
       "3      0.45 -383.0310  \n",
       "4      0.20    2.5164  \n",
       "5      0.00   14.1694  \n",
       "6      0.00    1.9656  \n",
       "7      0.20   90.7152  \n",
       "8      0.20    5.7825  \n",
       "9      0.00   34.4700  "
      ]
     },
     "execution_count": 3,
     "metadata": {},
     "output_type": "execute_result"
    }
   ],
   "source": [
    "data_store= pd.read_csv(\"../input/store-data/SampleSuperstore.csv\")\n",
    "data_store.head(10)"
   ]
  },
  {
   "cell_type": "code",
   "execution_count": 4,
   "id": "5bb5ecc8",
   "metadata": {
    "execution": {
     "iopub.execute_input": "2021-10-07T07:31:00.884887Z",
     "iopub.status.busy": "2021-10-07T07:31:00.883997Z",
     "iopub.status.idle": "2021-10-07T07:31:00.888292Z",
     "shell.execute_reply": "2021-10-07T07:31:00.888934Z",
     "shell.execute_reply.started": "2021-10-07T06:26:32.575448Z"
    },
    "papermill": {
     "duration": 0.047896,
     "end_time": "2021-10-07T07:31:00.889114",
     "exception": false,
     "start_time": "2021-10-07T07:31:00.841218",
     "status": "completed"
    },
    "tags": []
   },
   "outputs": [
    {
     "data": {
      "text/plain": [
       "Index(['Ship Mode', 'Segment', 'Country', 'City', 'State', 'Postal Code',\n",
       "       'Region', 'Category', 'Sub-Category', 'Sales', 'Quantity', 'Discount',\n",
       "       'Profit'],\n",
       "      dtype='object')"
      ]
     },
     "execution_count": 4,
     "metadata": {},
     "output_type": "execute_result"
    }
   ],
   "source": [
    "data_store.columns"
   ]
  },
  {
   "cell_type": "code",
   "execution_count": 5,
   "id": "b4c91a3b",
   "metadata": {
    "execution": {
     "iopub.execute_input": "2021-10-07T07:31:00.972339Z",
     "iopub.status.busy": "2021-10-07T07:31:00.971424Z",
     "iopub.status.idle": "2021-10-07T07:31:00.976008Z",
     "shell.execute_reply": "2021-10-07T07:31:00.975361Z",
     "shell.execute_reply.started": "2021-10-07T06:26:32.584349Z"
    },
    "papermill": {
     "duration": 0.049579,
     "end_time": "2021-10-07T07:31:00.976159",
     "exception": false,
     "start_time": "2021-10-07T07:31:00.926580",
     "status": "completed"
    },
    "tags": []
   },
   "outputs": [
    {
     "data": {
      "text/plain": [
       "Ship Mode        object\n",
       "Segment          object\n",
       "Country          object\n",
       "City             object\n",
       "State            object\n",
       "Postal Code       int64\n",
       "Region           object\n",
       "Category         object\n",
       "Sub-Category     object\n",
       "Sales           float64\n",
       "Quantity          int64\n",
       "Discount        float64\n",
       "Profit          float64\n",
       "dtype: object"
      ]
     },
     "execution_count": 5,
     "metadata": {},
     "output_type": "execute_result"
    }
   ],
   "source": [
    "data_store.dtypes"
   ]
  },
  {
   "cell_type": "code",
   "execution_count": 6,
   "id": "9151ac97",
   "metadata": {
    "execution": {
     "iopub.execute_input": "2021-10-07T07:31:01.057515Z",
     "iopub.status.busy": "2021-10-07T07:31:01.056884Z",
     "iopub.status.idle": "2021-10-07T07:31:01.061239Z",
     "shell.execute_reply": "2021-10-07T07:31:01.060736Z",
     "shell.execute_reply.started": "2021-10-07T06:26:32.596860Z"
    },
    "papermill": {
     "duration": 0.047199,
     "end_time": "2021-10-07T07:31:01.061380",
     "exception": false,
     "start_time": "2021-10-07T07:31:01.014181",
     "status": "completed"
    },
    "tags": []
   },
   "outputs": [
    {
     "data": {
      "text/plain": [
       "(9994, 13)"
      ]
     },
     "execution_count": 6,
     "metadata": {},
     "output_type": "execute_result"
    }
   ],
   "source": [
    "data_store.shape"
   ]
  },
  {
   "cell_type": "code",
   "execution_count": 7,
   "id": "99bf6646",
   "metadata": {
    "execution": {
     "iopub.execute_input": "2021-10-07T07:31:01.153733Z",
     "iopub.status.busy": "2021-10-07T07:31:01.152726Z",
     "iopub.status.idle": "2021-10-07T07:31:01.173778Z",
     "shell.execute_reply": "2021-10-07T07:31:01.174570Z",
     "shell.execute_reply.started": "2021-10-07T06:26:32.607800Z"
    },
    "papermill": {
     "duration": 0.075993,
     "end_time": "2021-10-07T07:31:01.174861",
     "exception": false,
     "start_time": "2021-10-07T07:31:01.098868",
     "status": "completed"
    },
    "tags": []
   },
   "outputs": [
    {
     "name": "stdout",
     "output_type": "stream",
     "text": [
      "<class 'pandas.core.frame.DataFrame'>\n",
      "RangeIndex: 9994 entries, 0 to 9993\n",
      "Data columns (total 13 columns):\n",
      " #   Column        Non-Null Count  Dtype  \n",
      "---  ------        --------------  -----  \n",
      " 0   Ship Mode     9994 non-null   object \n",
      " 1   Segment       9994 non-null   object \n",
      " 2   Country       9994 non-null   object \n",
      " 3   City          9994 non-null   object \n",
      " 4   State         9994 non-null   object \n",
      " 5   Postal Code   9994 non-null   int64  \n",
      " 6   Region        9994 non-null   object \n",
      " 7   Category      9994 non-null   object \n",
      " 8   Sub-Category  9994 non-null   object \n",
      " 9   Sales         9994 non-null   float64\n",
      " 10  Quantity      9994 non-null   int64  \n",
      " 11  Discount      9994 non-null   float64\n",
      " 12  Profit        9994 non-null   float64\n",
      "dtypes: float64(3), int64(2), object(8)\n",
      "memory usage: 1015.1+ KB\n"
     ]
    }
   ],
   "source": [
    "data_store.info()"
   ]
  },
  {
   "cell_type": "code",
   "execution_count": 8,
   "id": "dafc9ab2",
   "metadata": {
    "execution": {
     "iopub.execute_input": "2021-10-07T07:31:01.273782Z",
     "iopub.status.busy": "2021-10-07T07:31:01.272696Z",
     "iopub.status.idle": "2021-10-07T07:31:01.277431Z",
     "shell.execute_reply": "2021-10-07T07:31:01.276798Z",
     "shell.execute_reply.started": "2021-10-07T06:26:32.644824Z"
    },
    "papermill": {
     "duration": 0.062593,
     "end_time": "2021-10-07T07:31:01.277600",
     "exception": false,
     "start_time": "2021-10-07T07:31:01.215007",
     "status": "completed"
    },
    "tags": []
   },
   "outputs": [
    {
     "data": {
      "text/plain": [
       "<bound method NDFrame.describe of            Ship Mode    Segment        Country             City       State  \\\n",
       "0       Second Class   Consumer  United States        Henderson    Kentucky   \n",
       "1       Second Class   Consumer  United States        Henderson    Kentucky   \n",
       "2       Second Class  Corporate  United States      Los Angeles  California   \n",
       "3     Standard Class   Consumer  United States  Fort Lauderdale     Florida   \n",
       "4     Standard Class   Consumer  United States  Fort Lauderdale     Florida   \n",
       "...              ...        ...            ...              ...         ...   \n",
       "9989    Second Class   Consumer  United States            Miami     Florida   \n",
       "9990  Standard Class   Consumer  United States       Costa Mesa  California   \n",
       "9991  Standard Class   Consumer  United States       Costa Mesa  California   \n",
       "9992  Standard Class   Consumer  United States       Costa Mesa  California   \n",
       "9993    Second Class   Consumer  United States      Westminster  California   \n",
       "\n",
       "      Postal Code Region         Category Sub-Category     Sales  Quantity  \\\n",
       "0           42420  South        Furniture    Bookcases  261.9600         2   \n",
       "1           42420  South        Furniture       Chairs  731.9400         3   \n",
       "2           90036   West  Office Supplies       Labels   14.6200         2   \n",
       "3           33311  South        Furniture       Tables  957.5775         5   \n",
       "4           33311  South  Office Supplies      Storage   22.3680         2   \n",
       "...           ...    ...              ...          ...       ...       ...   \n",
       "9989        33180  South        Furniture  Furnishings   25.2480         3   \n",
       "9990        92627   West        Furniture  Furnishings   91.9600         2   \n",
       "9991        92627   West       Technology       Phones  258.5760         2   \n",
       "9992        92627   West  Office Supplies        Paper   29.6000         4   \n",
       "9993        92683   West  Office Supplies   Appliances  243.1600         2   \n",
       "\n",
       "      Discount    Profit  \n",
       "0         0.00   41.9136  \n",
       "1         0.00  219.5820  \n",
       "2         0.00    6.8714  \n",
       "3         0.45 -383.0310  \n",
       "4         0.20    2.5164  \n",
       "...        ...       ...  \n",
       "9989      0.20    4.1028  \n",
       "9990      0.00   15.6332  \n",
       "9991      0.20   19.3932  \n",
       "9992      0.00   13.3200  \n",
       "9993      0.00   72.9480  \n",
       "\n",
       "[9994 rows x 13 columns]>"
      ]
     },
     "execution_count": 8,
     "metadata": {},
     "output_type": "execute_result"
    }
   ],
   "source": [
    "data_store.describe"
   ]
  },
  {
   "cell_type": "code",
   "execution_count": 9,
   "id": "3ff281fe",
   "metadata": {
    "execution": {
     "iopub.execute_input": "2021-10-07T07:31:01.363068Z",
     "iopub.status.busy": "2021-10-07T07:31:01.362043Z",
     "iopub.status.idle": "2021-10-07T07:31:01.367081Z",
     "shell.execute_reply": "2021-10-07T07:31:01.366276Z",
     "shell.execute_reply.started": "2021-10-07T06:26:32.662247Z"
    },
    "papermill": {
     "duration": 0.050258,
     "end_time": "2021-10-07T07:31:01.367264",
     "exception": false,
     "start_time": "2021-10-07T07:31:01.317006",
     "status": "completed"
    },
    "tags": []
   },
   "outputs": [
    {
     "data": {
      "text/plain": [
       "Index(['Ship Mode', 'Segment', 'Country', 'City', 'State', 'Postal Code',\n",
       "       'Region', 'Category', 'Sub-Category', 'Sales', 'Quantity', 'Discount',\n",
       "       'Profit'],\n",
       "      dtype='object')"
      ]
     },
     "execution_count": 9,
     "metadata": {},
     "output_type": "execute_result"
    }
   ],
   "source": [
    "data_store.columns"
   ]
  },
  {
   "cell_type": "markdown",
   "id": "77cf58d9",
   "metadata": {
    "papermill": {
     "duration": 0.039276,
     "end_time": "2021-10-07T07:31:01.446873",
     "exception": false,
     "start_time": "2021-10-07T07:31:01.407597",
     "status": "completed"
    },
    "tags": []
   },
   "source": [
    "# Finding out Missing Data"
   ]
  },
  {
   "cell_type": "code",
   "execution_count": 10,
   "id": "0987e4de",
   "metadata": {
    "execution": {
     "iopub.execute_input": "2021-10-07T07:31:01.546361Z",
     "iopub.status.busy": "2021-10-07T07:31:01.545323Z",
     "iopub.status.idle": "2021-10-07T07:31:01.552006Z",
     "shell.execute_reply": "2021-10-07T07:31:01.552740Z",
     "shell.execute_reply.started": "2021-10-07T06:26:32.673928Z"
    },
    "papermill": {
     "duration": 0.066587,
     "end_time": "2021-10-07T07:31:01.553022",
     "exception": false,
     "start_time": "2021-10-07T07:31:01.486435",
     "status": "completed"
    },
    "tags": []
   },
   "outputs": [
    {
     "name": "stdout",
     "output_type": "stream",
     "text": [
      "Ship Mode - 0%\n",
      "Segment - 0%\n",
      "Country - 0%\n",
      "City - 0%\n",
      "State - 0%\n",
      "Postal Code - 0%\n",
      "Region - 0%\n",
      "Category - 0%\n",
      "Sub-Category - 0%\n",
      "Sales - 0%\n",
      "Quantity - 0%\n",
      "Discount - 0%\n",
      "Profit - 0%\n"
     ]
    }
   ],
   "source": [
    "#finding missing data through percentage list method \n",
    "for col in data_store.columns:\n",
    "    pct_missing = np.mean(data_store[col].isnull())\n",
    "    print('{} - {}%'.format(col, round(pct_missing*100)))"
   ]
  },
  {
   "cell_type": "code",
   "execution_count": 11,
   "id": "ce86bd71",
   "metadata": {
    "execution": {
     "iopub.execute_input": "2021-10-07T07:31:01.662803Z",
     "iopub.status.busy": "2021-10-07T07:31:01.655302Z",
     "iopub.status.idle": "2021-10-07T07:31:01.905075Z",
     "shell.execute_reply": "2021-10-07T07:31:01.905567Z",
     "shell.execute_reply.started": "2021-10-07T06:26:32.701382Z"
    },
    "papermill": {
     "duration": 0.311667,
     "end_time": "2021-10-07T07:31:01.905811",
     "exception": false,
     "start_time": "2021-10-07T07:31:01.594144",
     "status": "completed"
    },
    "tags": []
   },
   "outputs": [
    {
     "data": {
      "text/plain": [
       "<AxesSubplot:xlabel='index'>"
      ]
     },
     "execution_count": 11,
     "metadata": {},
     "output_type": "execute_result"
    },
    {
     "data": {
      "image/png": "[encoded data removed]",
      "text/plain": [
       "<Figure size 432x288 with 1 Axes>"
      ]
     },
     "metadata": {
      "needs_background": "light"
     },
     "output_type": "display_data"
    }
   ],
   "source": [
    "#first we will create missing indicator for features of missing data \n",
    "for col in data_store.columns:\n",
    "    missing=data_store[col].isnull()\n",
    "    num_missing= np.sum(missing)\n",
    "    \n",
    "    if num_missing>0:\n",
    "        print('created missing indicator for: {}'.format(col))\n",
    "        data_store['{}_ismissing'.format(col)]=missing \n",
    "        \n",
    "        \n",
    "#then based on the indicator we will plot histogram values\n",
    "ismissing_cols=[col for col in data_store.columns if 'ismissing' in col]\n",
    "data_store['num_missing']=data_store[ismissing_cols].sum(axis=1)\n",
    "\n",
    "data_store['num_missing'].value_counts().reset_index().sort_values(by='index').plot.bar(x='index',y='num_missing')"
   ]
  },
  {
   "cell_type": "markdown",
   "id": "3e085e0c",
   "metadata": {
    "papermill": {
     "duration": 0.040568,
     "end_time": "2021-10-07T07:31:01.986867",
     "exception": false,
     "start_time": "2021-10-07T07:31:01.946299",
     "status": "completed"
    },
    "tags": []
   },
   "source": [
    "**> The above percentage list and histogram shows that the data provided is cleaned and ready for visualization**"
   ]
  },
  {
   "cell_type": "markdown",
   "id": "eee4d774",
   "metadata": {
    "papermill": {
     "duration": 0.040439,
     "end_time": "2021-10-07T07:31:02.067885",
     "exception": false,
     "start_time": "2021-10-07T07:31:02.027446",
     "status": "completed"
    },
    "tags": []
   },
   "source": [
    "First we will seperate columns and values which needs to be plot on graphs , these seperate pivot tables helps us to plot "
   ]
  },
  {
   "cell_type": "code",
   "execution_count": 12,
   "id": "5013c8ec",
   "metadata": {
    "execution": {
     "iopub.execute_input": "2021-10-07T07:31:02.153097Z",
     "iopub.status.busy": "2021-10-07T07:31:02.152390Z",
     "iopub.status.idle": "2021-10-07T07:31:02.547910Z",
     "shell.execute_reply": "2021-10-07T07:31:02.547323Z",
     "shell.execute_reply.started": "2021-10-07T06:26:32.956734Z"
    },
    "papermill": {
     "duration": 0.439688,
     "end_time": "2021-10-07T07:31:02.548071",
     "exception": false,
     "start_time": "2021-10-07T07:31:02.108383",
     "status": "completed"
    },
    "tags": []
   },
   "outputs": [
    {
     "data": {
      "text/plain": [
       "<AxesSubplot:>"
      ]
     },
     "execution_count": 12,
     "metadata": {},
     "output_type": "execute_result"
    },
    {
     "data": {
      "image/png": "[encoded data removed]",
      "text/plain": [
       "<Figure size 432x288 with 2 Axes>"
      ]
     },
     "metadata": {
      "needs_background": "light"
     },
     "output_type": "display_data"
    }
   ],
   "source": [
    "corr=data_store.corr()\n",
    "sns.heatmap(corr,annot=True,vmin=-.5,vmax=0.6)\n"
   ]
  },
  {
   "cell_type": "code",
   "execution_count": 13,
   "id": "43f3ea52",
   "metadata": {
    "execution": {
     "iopub.execute_input": "2021-10-07T07:31:02.640180Z",
     "iopub.status.busy": "2021-10-07T07:31:02.639472Z",
     "iopub.status.idle": "2021-10-07T07:31:02.659288Z",
     "shell.execute_reply": "2021-10-07T07:31:02.659806Z",
     "shell.execute_reply.started": "2021-10-07T06:26:33.291821Z"
    },
    "papermill": {
     "duration": 0.069448,
     "end_time": "2021-10-07T07:31:02.660012",
     "exception": false,
     "start_time": "2021-10-07T07:31:02.590564",
     "status": "completed"
    },
    "tags": []
   },
   "outputs": [
    {
     "data": {
      "text/html": [
       "<div>\n",
       "<style scoped>\n",
       "    .dataframe tbody tr th:only-of-type {\n",
       "        vertical-align: middle;\n",
       "    }\n",
       "\n",
       "    .dataframe tbody tr th {\n",
       "        vertical-align: top;\n",
       "    }\n",
       "\n",
       "    .dataframe thead th {\n",
       "        text-align: right;\n",
       "    }\n",
       "</style>\n",
       "<table border=\"1\" class=\"dataframe\">\n",
       "  <thead>\n",
       "    <tr style=\"text-align: right;\">\n",
       "      <th></th>\n",
       "      <th>Sales</th>\n",
       "    </tr>\n",
       "    <tr>\n",
       "      <th>Category</th>\n",
       "      <th></th>\n",
       "    </tr>\n",
       "  </thead>\n",
       "  <tbody>\n",
       "    <tr>\n",
       "      <th>Furniture</th>\n",
       "      <td>741999.7953</td>\n",
       "    </tr>\n",
       "    <tr>\n",
       "      <th>Office Supplies</th>\n",
       "      <td>719047.0320</td>\n",
       "    </tr>\n",
       "    <tr>\n",
       "      <th>Technology</th>\n",
       "      <td>836154.0330</td>\n",
       "    </tr>\n",
       "  </tbody>\n",
       "</table>\n",
       "</div>"
      ],
      "text/plain": [
       "                       Sales\n",
       "Category                    \n",
       "Furniture        741999.7953\n",
       "Office Supplies  719047.0320\n",
       "Technology       836154.0330"
      ]
     },
     "execution_count": 13,
     "metadata": {},
     "output_type": "execute_result"
    }
   ],
   "source": [
    "category_sales= pd.pivot_table(data=data_store,index='Category',values='Sales',aggfunc=np.sum)\n",
    "category_sales"
   ]
  },
  {
   "cell_type": "code",
   "execution_count": 14,
   "id": "cf31a7ee",
   "metadata": {
    "execution": {
     "iopub.execute_input": "2021-10-07T07:31:02.755117Z",
     "iopub.status.busy": "2021-10-07T07:31:02.752070Z",
     "iopub.status.idle": "2021-10-07T07:31:02.768730Z",
     "shell.execute_reply": "2021-10-07T07:31:02.768122Z",
     "shell.execute_reply.started": "2021-10-07T06:26:33.311443Z"
    },
    "papermill": {
     "duration": 0.065595,
     "end_time": "2021-10-07T07:31:02.768877",
     "exception": false,
     "start_time": "2021-10-07T07:31:02.703282",
     "status": "completed"
    },
    "tags": []
   },
   "outputs": [
    {
     "data": {
      "text/html": [
       "<div>\n",
       "<style scoped>\n",
       "    .dataframe tbody tr th:only-of-type {\n",
       "        vertical-align: middle;\n",
       "    }\n",
       "\n",
       "    .dataframe tbody tr th {\n",
       "        vertical-align: top;\n",
       "    }\n",
       "\n",
       "    .dataframe thead th {\n",
       "        text-align: right;\n",
       "    }\n",
       "</style>\n",
       "<table border=\"1\" class=\"dataframe\">\n",
       "  <thead>\n",
       "    <tr style=\"text-align: right;\">\n",
       "      <th></th>\n",
       "      <th>Quantity</th>\n",
       "    </tr>\n",
       "    <tr>\n",
       "      <th>Category</th>\n",
       "      <th></th>\n",
       "    </tr>\n",
       "  </thead>\n",
       "  <tbody>\n",
       "    <tr>\n",
       "      <th>Furniture</th>\n",
       "      <td>8028</td>\n",
       "    </tr>\n",
       "    <tr>\n",
       "      <th>Office Supplies</th>\n",
       "      <td>22906</td>\n",
       "    </tr>\n",
       "    <tr>\n",
       "      <th>Technology</th>\n",
       "      <td>6939</td>\n",
       "    </tr>\n",
       "  </tbody>\n",
       "</table>\n",
       "</div>"
      ],
      "text/plain": [
       "                 Quantity\n",
       "Category                 \n",
       "Furniture            8028\n",
       "Office Supplies     22906\n",
       "Technology           6939"
      ]
     },
     "execution_count": 14,
     "metadata": {},
     "output_type": "execute_result"
    }
   ],
   "source": [
    "category_quantity = pd.pivot_table(data=data_store,index='Category',values='Quantity',aggfunc=np.sum)\n",
    "category_quantity"
   ]
  },
  {
   "cell_type": "code",
   "execution_count": 15,
   "id": "bd811b7f",
   "metadata": {
    "execution": {
     "iopub.execute_input": "2021-10-07T07:31:02.864097Z",
     "iopub.status.busy": "2021-10-07T07:31:02.863422Z",
     "iopub.status.idle": "2021-10-07T07:31:02.876194Z",
     "shell.execute_reply": "2021-10-07T07:31:02.875684Z",
     "shell.execute_reply.started": "2021-10-07T06:26:33.326878Z"
    },
    "papermill": {
     "duration": 0.064495,
     "end_time": "2021-10-07T07:31:02.876341",
     "exception": false,
     "start_time": "2021-10-07T07:31:02.811846",
     "status": "completed"
    },
    "tags": []
   },
   "outputs": [
    {
     "data": {
      "text/html": [
       "<div>\n",
       "<style scoped>\n",
       "    .dataframe tbody tr th:only-of-type {\n",
       "        vertical-align: middle;\n",
       "    }\n",
       "\n",
       "    .dataframe tbody tr th {\n",
       "        vertical-align: top;\n",
       "    }\n",
       "\n",
       "    .dataframe thead th {\n",
       "        text-align: right;\n",
       "    }\n",
       "</style>\n",
       "<table border=\"1\" class=\"dataframe\">\n",
       "  <thead>\n",
       "    <tr style=\"text-align: right;\">\n",
       "      <th></th>\n",
       "      <th>Discount</th>\n",
       "    </tr>\n",
       "    <tr>\n",
       "      <th>Category</th>\n",
       "      <th></th>\n",
       "    </tr>\n",
       "  </thead>\n",
       "  <tbody>\n",
       "    <tr>\n",
       "      <th>Furniture</th>\n",
       "      <td>368.89</td>\n",
       "    </tr>\n",
       "    <tr>\n",
       "      <th>Office Supplies</th>\n",
       "      <td>947.80</td>\n",
       "    </tr>\n",
       "    <tr>\n",
       "      <th>Technology</th>\n",
       "      <td>244.40</td>\n",
       "    </tr>\n",
       "  </tbody>\n",
       "</table>\n",
       "</div>"
      ],
      "text/plain": [
       "                 Discount\n",
       "Category                 \n",
       "Furniture          368.89\n",
       "Office Supplies    947.80\n",
       "Technology         244.40"
      ]
     },
     "execution_count": 15,
     "metadata": {},
     "output_type": "execute_result"
    }
   ],
   "source": [
    "category_discount=pd.pivot_table(data=data_store,index='Category',values='Discount',aggfunc=np.sum)\n",
    "category_discount"
   ]
  },
  {
   "cell_type": "code",
   "execution_count": 16,
   "id": "8adf73d6",
   "metadata": {
    "execution": {
     "iopub.execute_input": "2021-10-07T07:31:02.982124Z",
     "iopub.status.busy": "2021-10-07T07:31:02.981121Z",
     "iopub.status.idle": "2021-10-07T07:31:02.985714Z",
     "shell.execute_reply": "2021-10-07T07:31:02.985017Z",
     "shell.execute_reply.started": "2021-10-07T06:26:33.342923Z"
    },
    "papermill": {
     "duration": 0.06616,
     "end_time": "2021-10-07T07:31:02.985878",
     "exception": false,
     "start_time": "2021-10-07T07:31:02.919718",
     "status": "completed"
    },
    "tags": []
   },
   "outputs": [
    {
     "data": {
      "text/html": [
       "<div>\n",
       "<style scoped>\n",
       "    .dataframe tbody tr th:only-of-type {\n",
       "        vertical-align: middle;\n",
       "    }\n",
       "\n",
       "    .dataframe tbody tr th {\n",
       "        vertical-align: top;\n",
       "    }\n",
       "\n",
       "    .dataframe thead th {\n",
       "        text-align: right;\n",
       "    }\n",
       "</style>\n",
       "<table border=\"1\" class=\"dataframe\">\n",
       "  <thead>\n",
       "    <tr style=\"text-align: right;\">\n",
       "      <th></th>\n",
       "      <th>Profit</th>\n",
       "    </tr>\n",
       "    <tr>\n",
       "      <th>Category</th>\n",
       "      <th></th>\n",
       "    </tr>\n",
       "  </thead>\n",
       "  <tbody>\n",
       "    <tr>\n",
       "      <th>Furniture</th>\n",
       "      <td>18451.2728</td>\n",
       "    </tr>\n",
       "    <tr>\n",
       "      <th>Office Supplies</th>\n",
       "      <td>122490.8008</td>\n",
       "    </tr>\n",
       "    <tr>\n",
       "      <th>Technology</th>\n",
       "      <td>145454.9481</td>\n",
       "    </tr>\n",
       "  </tbody>\n",
       "</table>\n",
       "</div>"
      ],
      "text/plain": [
       "                      Profit\n",
       "Category                    \n",
       "Furniture         18451.2728\n",
       "Office Supplies  122490.8008\n",
       "Technology       145454.9481"
      ]
     },
     "execution_count": 16,
     "metadata": {},
     "output_type": "execute_result"
    }
   ],
   "source": [
    "category_profit=pd.pivot_table(data=data_store,index='Category',values='Profit',aggfunc=np.sum)\n",
    "category_profit"
   ]
  },
  {
   "cell_type": "code",
   "execution_count": 17,
   "id": "74499f07",
   "metadata": {
    "execution": {
     "iopub.execute_input": "2021-10-07T07:31:03.082120Z",
     "iopub.status.busy": "2021-10-07T07:31:03.081393Z",
     "iopub.status.idle": "2021-10-07T07:31:03.095704Z",
     "shell.execute_reply": "2021-10-07T07:31:03.096169Z",
     "shell.execute_reply.started": "2021-10-07T06:26:33.360484Z"
    },
    "papermill": {
     "duration": 0.065972,
     "end_time": "2021-10-07T07:31:03.096374",
     "exception": false,
     "start_time": "2021-10-07T07:31:03.030402",
     "status": "completed"
    },
    "tags": []
   },
   "outputs": [
    {
     "data": {
      "text/html": [
       "<div>\n",
       "<style scoped>\n",
       "    .dataframe tbody tr th:only-of-type {\n",
       "        vertical-align: middle;\n",
       "    }\n",
       "\n",
       "    .dataframe tbody tr th {\n",
       "        vertical-align: top;\n",
       "    }\n",
       "\n",
       "    .dataframe thead th {\n",
       "        text-align: right;\n",
       "    }\n",
       "</style>\n",
       "<table border=\"1\" class=\"dataframe\">\n",
       "  <thead>\n",
       "    <tr style=\"text-align: right;\">\n",
       "      <th></th>\n",
       "      <th>Sales</th>\n",
       "    </tr>\n",
       "    <tr>\n",
       "      <th>Sub-Category</th>\n",
       "      <th></th>\n",
       "    </tr>\n",
       "  </thead>\n",
       "  <tbody>\n",
       "    <tr>\n",
       "      <th>Accessories</th>\n",
       "      <td>167380.3180</td>\n",
       "    </tr>\n",
       "    <tr>\n",
       "      <th>Appliances</th>\n",
       "      <td>107532.1610</td>\n",
       "    </tr>\n",
       "    <tr>\n",
       "      <th>Art</th>\n",
       "      <td>27118.7920</td>\n",
       "    </tr>\n",
       "    <tr>\n",
       "      <th>Binders</th>\n",
       "      <td>203412.7330</td>\n",
       "    </tr>\n",
       "    <tr>\n",
       "      <th>Bookcases</th>\n",
       "      <td>114879.9963</td>\n",
       "    </tr>\n",
       "    <tr>\n",
       "      <th>Chairs</th>\n",
       "      <td>328449.1030</td>\n",
       "    </tr>\n",
       "    <tr>\n",
       "      <th>Copiers</th>\n",
       "      <td>149528.0300</td>\n",
       "    </tr>\n",
       "    <tr>\n",
       "      <th>Envelopes</th>\n",
       "      <td>16476.4020</td>\n",
       "    </tr>\n",
       "    <tr>\n",
       "      <th>Fasteners</th>\n",
       "      <td>3024.2800</td>\n",
       "    </tr>\n",
       "    <tr>\n",
       "      <th>Furnishings</th>\n",
       "      <td>91705.1640</td>\n",
       "    </tr>\n",
       "    <tr>\n",
       "      <th>Labels</th>\n",
       "      <td>12486.3120</td>\n",
       "    </tr>\n",
       "    <tr>\n",
       "      <th>Machines</th>\n",
       "      <td>189238.6310</td>\n",
       "    </tr>\n",
       "    <tr>\n",
       "      <th>Paper</th>\n",
       "      <td>78479.2060</td>\n",
       "    </tr>\n",
       "    <tr>\n",
       "      <th>Phones</th>\n",
       "      <td>330007.0540</td>\n",
       "    </tr>\n",
       "    <tr>\n",
       "      <th>Storage</th>\n",
       "      <td>223843.6080</td>\n",
       "    </tr>\n",
       "    <tr>\n",
       "      <th>Supplies</th>\n",
       "      <td>46673.5380</td>\n",
       "    </tr>\n",
       "    <tr>\n",
       "      <th>Tables</th>\n",
       "      <td>206965.5320</td>\n",
       "    </tr>\n",
       "  </tbody>\n",
       "</table>\n",
       "</div>"
      ],
      "text/plain": [
       "                    Sales\n",
       "Sub-Category             \n",
       "Accessories   167380.3180\n",
       "Appliances    107532.1610\n",
       "Art            27118.7920\n",
       "Binders       203412.7330\n",
       "Bookcases     114879.9963\n",
       "Chairs        328449.1030\n",
       "Copiers       149528.0300\n",
       "Envelopes      16476.4020\n",
       "Fasteners       3024.2800\n",
       "Furnishings    91705.1640\n",
       "Labels         12486.3120\n",
       "Machines      189238.6310\n",
       "Paper          78479.2060\n",
       "Phones        330007.0540\n",
       "Storage       223843.6080\n",
       "Supplies       46673.5380\n",
       "Tables        206965.5320"
      ]
     },
     "execution_count": 17,
     "metadata": {},
     "output_type": "execute_result"
    }
   ],
   "source": [
    "subcategory_sales= pd.pivot_table(data=data_store,index='Sub-Category',values='Sales',aggfunc=np.sum)\n",
    "subcategory_sales"
   ]
  },
  {
   "cell_type": "code",
   "execution_count": 18,
   "id": "824f8e69",
   "metadata": {
    "execution": {
     "iopub.execute_input": "2021-10-07T07:31:03.190134Z",
     "iopub.status.busy": "2021-10-07T07:31:03.189480Z",
     "iopub.status.idle": "2021-10-07T07:31:03.208208Z",
     "shell.execute_reply": "2021-10-07T07:31:03.207677Z",
     "shell.execute_reply.started": "2021-10-07T06:26:33.376641Z"
    },
    "papermill": {
     "duration": 0.066395,
     "end_time": "2021-10-07T07:31:03.208359",
     "exception": false,
     "start_time": "2021-10-07T07:31:03.141964",
     "status": "completed"
    },
    "tags": []
   },
   "outputs": [
    {
     "data": {
      "text/html": [
       "<div>\n",
       "<style scoped>\n",
       "    .dataframe tbody tr th:only-of-type {\n",
       "        vertical-align: middle;\n",
       "    }\n",
       "\n",
       "    .dataframe tbody tr th {\n",
       "        vertical-align: top;\n",
       "    }\n",
       "\n",
       "    .dataframe thead th {\n",
       "        text-align: right;\n",
       "    }\n",
       "</style>\n",
       "<table border=\"1\" class=\"dataframe\">\n",
       "  <thead>\n",
       "    <tr style=\"text-align: right;\">\n",
       "      <th></th>\n",
       "      <th>Quantity</th>\n",
       "    </tr>\n",
       "    <tr>\n",
       "      <th>Sub-Category</th>\n",
       "      <th></th>\n",
       "    </tr>\n",
       "  </thead>\n",
       "  <tbody>\n",
       "    <tr>\n",
       "      <th>Accessories</th>\n",
       "      <td>2976</td>\n",
       "    </tr>\n",
       "    <tr>\n",
       "      <th>Appliances</th>\n",
       "      <td>1729</td>\n",
       "    </tr>\n",
       "    <tr>\n",
       "      <th>Art</th>\n",
       "      <td>3000</td>\n",
       "    </tr>\n",
       "    <tr>\n",
       "      <th>Binders</th>\n",
       "      <td>5974</td>\n",
       "    </tr>\n",
       "    <tr>\n",
       "      <th>Bookcases</th>\n",
       "      <td>868</td>\n",
       "    </tr>\n",
       "    <tr>\n",
       "      <th>Chairs</th>\n",
       "      <td>2356</td>\n",
       "    </tr>\n",
       "    <tr>\n",
       "      <th>Copiers</th>\n",
       "      <td>234</td>\n",
       "    </tr>\n",
       "    <tr>\n",
       "      <th>Envelopes</th>\n",
       "      <td>906</td>\n",
       "    </tr>\n",
       "    <tr>\n",
       "      <th>Fasteners</th>\n",
       "      <td>914</td>\n",
       "    </tr>\n",
       "    <tr>\n",
       "      <th>Furnishings</th>\n",
       "      <td>3563</td>\n",
       "    </tr>\n",
       "    <tr>\n",
       "      <th>Labels</th>\n",
       "      <td>1400</td>\n",
       "    </tr>\n",
       "    <tr>\n",
       "      <th>Machines</th>\n",
       "      <td>440</td>\n",
       "    </tr>\n",
       "    <tr>\n",
       "      <th>Paper</th>\n",
       "      <td>5178</td>\n",
       "    </tr>\n",
       "    <tr>\n",
       "      <th>Phones</th>\n",
       "      <td>3289</td>\n",
       "    </tr>\n",
       "    <tr>\n",
       "      <th>Storage</th>\n",
       "      <td>3158</td>\n",
       "    </tr>\n",
       "    <tr>\n",
       "      <th>Supplies</th>\n",
       "      <td>647</td>\n",
       "    </tr>\n",
       "    <tr>\n",
       "      <th>Tables</th>\n",
       "      <td>1241</td>\n",
       "    </tr>\n",
       "  </tbody>\n",
       "</table>\n",
       "</div>"
      ],
      "text/plain": [
       "              Quantity\n",
       "Sub-Category          \n",
       "Accessories       2976\n",
       "Appliances        1729\n",
       "Art               3000\n",
       "Binders           5974\n",
       "Bookcases          868\n",
       "Chairs            2356\n",
       "Copiers            234\n",
       "Envelopes          906\n",
       "Fasteners          914\n",
       "Furnishings       3563\n",
       "Labels            1400\n",
       "Machines           440\n",
       "Paper             5178\n",
       "Phones            3289\n",
       "Storage           3158\n",
       "Supplies           647\n",
       "Tables            1241"
      ]
     },
     "execution_count": 18,
     "metadata": {},
     "output_type": "execute_result"
    }
   ],
   "source": [
    "subcategory_quantity=pd.pivot_table(data=data_store,index='Sub-Category',values='Quantity',aggfunc=np.sum)\n",
    "subcategory_quantity"
   ]
  },
  {
   "cell_type": "code",
   "execution_count": 19,
   "id": "49355b47",
   "metadata": {
    "execution": {
     "iopub.execute_input": "2021-10-07T07:31:03.308848Z",
     "iopub.status.busy": "2021-10-07T07:31:03.308128Z",
     "iopub.status.idle": "2021-10-07T07:31:03.323523Z",
     "shell.execute_reply": "2021-10-07T07:31:03.322975Z",
     "shell.execute_reply.started": "2021-10-07T06:26:33.392375Z"
    },
    "papermill": {
     "duration": 0.069347,
     "end_time": "2021-10-07T07:31:03.323680",
     "exception": false,
     "start_time": "2021-10-07T07:31:03.254333",
     "status": "completed"
    },
    "tags": []
   },
   "outputs": [
    {
     "data": {
      "text/html": [
       "<div>\n",
       "<style scoped>\n",
       "    .dataframe tbody tr th:only-of-type {\n",
       "        vertical-align: middle;\n",
       "    }\n",
       "\n",
       "    .dataframe tbody tr th {\n",
       "        vertical-align: top;\n",
       "    }\n",
       "\n",
       "    .dataframe thead th {\n",
       "        text-align: right;\n",
       "    }\n",
       "</style>\n",
       "<table border=\"1\" class=\"dataframe\">\n",
       "  <thead>\n",
       "    <tr style=\"text-align: right;\">\n",
       "      <th></th>\n",
       "      <th>Discount</th>\n",
       "    </tr>\n",
       "    <tr>\n",
       "      <th>Sub-Category</th>\n",
       "      <th></th>\n",
       "    </tr>\n",
       "  </thead>\n",
       "  <tbody>\n",
       "    <tr>\n",
       "      <th>Accessories</th>\n",
       "      <td>60.80</td>\n",
       "    </tr>\n",
       "    <tr>\n",
       "      <th>Appliances</th>\n",
       "      <td>77.60</td>\n",
       "    </tr>\n",
       "    <tr>\n",
       "      <th>Art</th>\n",
       "      <td>59.60</td>\n",
       "    </tr>\n",
       "    <tr>\n",
       "      <th>Binders</th>\n",
       "      <td>567.00</td>\n",
       "    </tr>\n",
       "    <tr>\n",
       "      <th>Bookcases</th>\n",
       "      <td>48.14</td>\n",
       "    </tr>\n",
       "    <tr>\n",
       "      <th>Chairs</th>\n",
       "      <td>105.00</td>\n",
       "    </tr>\n",
       "    <tr>\n",
       "      <th>Copiers</th>\n",
       "      <td>11.00</td>\n",
       "    </tr>\n",
       "    <tr>\n",
       "      <th>Envelopes</th>\n",
       "      <td>20.40</td>\n",
       "    </tr>\n",
       "    <tr>\n",
       "      <th>Fasteners</th>\n",
       "      <td>17.80</td>\n",
       "    </tr>\n",
       "    <tr>\n",
       "      <th>Furnishings</th>\n",
       "      <td>132.40</td>\n",
       "    </tr>\n",
       "    <tr>\n",
       "      <th>Labels</th>\n",
       "      <td>25.00</td>\n",
       "    </tr>\n",
       "    <tr>\n",
       "      <th>Machines</th>\n",
       "      <td>35.20</td>\n",
       "    </tr>\n",
       "    <tr>\n",
       "      <th>Paper</th>\n",
       "      <td>102.60</td>\n",
       "    </tr>\n",
       "    <tr>\n",
       "      <th>Phones</th>\n",
       "      <td>137.40</td>\n",
       "    </tr>\n",
       "    <tr>\n",
       "      <th>Storage</th>\n",
       "      <td>63.20</td>\n",
       "    </tr>\n",
       "    <tr>\n",
       "      <th>Supplies</th>\n",
       "      <td>14.60</td>\n",
       "    </tr>\n",
       "    <tr>\n",
       "      <th>Tables</th>\n",
       "      <td>83.35</td>\n",
       "    </tr>\n",
       "  </tbody>\n",
       "</table>\n",
       "</div>"
      ],
      "text/plain": [
       "              Discount\n",
       "Sub-Category          \n",
       "Accessories      60.80\n",
       "Appliances       77.60\n",
       "Art              59.60\n",
       "Binders         567.00\n",
       "Bookcases        48.14\n",
       "Chairs          105.00\n",
       "Copiers          11.00\n",
       "Envelopes        20.40\n",
       "Fasteners        17.80\n",
       "Furnishings     132.40\n",
       "Labels           25.00\n",
       "Machines         35.20\n",
       "Paper           102.60\n",
       "Phones          137.40\n",
       "Storage          63.20\n",
       "Supplies         14.60\n",
       "Tables           83.35"
      ]
     },
     "execution_count": 19,
     "metadata": {},
     "output_type": "execute_result"
    }
   ],
   "source": [
    "subcategory_discount=pd.pivot_table(data=data_store,index='Sub-Category',values='Discount',aggfunc=np.sum)\n",
    "subcategory_discount"
   ]
  },
  {
   "cell_type": "code",
   "execution_count": 20,
   "id": "0a724811",
   "metadata": {
    "execution": {
     "iopub.execute_input": "2021-10-07T07:31:03.423993Z",
     "iopub.status.busy": "2021-10-07T07:31:03.423301Z",
     "iopub.status.idle": "2021-10-07T07:31:03.439221Z",
     "shell.execute_reply": "2021-10-07T07:31:03.439695Z",
     "shell.execute_reply.started": "2021-10-07T06:26:33.413048Z"
    },
    "papermill": {
     "duration": 0.070952,
     "end_time": "2021-10-07T07:31:03.439874",
     "exception": false,
     "start_time": "2021-10-07T07:31:03.368922",
     "status": "completed"
    },
    "tags": []
   },
   "outputs": [
    {
     "data": {
      "text/html": [
       "<div>\n",
       "<style scoped>\n",
       "    .dataframe tbody tr th:only-of-type {\n",
       "        vertical-align: middle;\n",
       "    }\n",
       "\n",
       "    .dataframe tbody tr th {\n",
       "        vertical-align: top;\n",
       "    }\n",
       "\n",
       "    .dataframe thead th {\n",
       "        text-align: right;\n",
       "    }\n",
       "</style>\n",
       "<table border=\"1\" class=\"dataframe\">\n",
       "  <thead>\n",
       "    <tr style=\"text-align: right;\">\n",
       "      <th></th>\n",
       "      <th>Profit</th>\n",
       "    </tr>\n",
       "    <tr>\n",
       "      <th>Sub-Category</th>\n",
       "      <th></th>\n",
       "    </tr>\n",
       "  </thead>\n",
       "  <tbody>\n",
       "    <tr>\n",
       "      <th>Accessories</th>\n",
       "      <td>41936.6357</td>\n",
       "    </tr>\n",
       "    <tr>\n",
       "      <th>Appliances</th>\n",
       "      <td>18138.0054</td>\n",
       "    </tr>\n",
       "    <tr>\n",
       "      <th>Art</th>\n",
       "      <td>6527.7870</td>\n",
       "    </tr>\n",
       "    <tr>\n",
       "      <th>Binders</th>\n",
       "      <td>30221.7633</td>\n",
       "    </tr>\n",
       "    <tr>\n",
       "      <th>Bookcases</th>\n",
       "      <td>-3472.5560</td>\n",
       "    </tr>\n",
       "    <tr>\n",
       "      <th>Chairs</th>\n",
       "      <td>26590.1663</td>\n",
       "    </tr>\n",
       "    <tr>\n",
       "      <th>Copiers</th>\n",
       "      <td>55617.8249</td>\n",
       "    </tr>\n",
       "    <tr>\n",
       "      <th>Envelopes</th>\n",
       "      <td>6964.1767</td>\n",
       "    </tr>\n",
       "    <tr>\n",
       "      <th>Fasteners</th>\n",
       "      <td>949.5182</td>\n",
       "    </tr>\n",
       "    <tr>\n",
       "      <th>Furnishings</th>\n",
       "      <td>13059.1436</td>\n",
       "    </tr>\n",
       "    <tr>\n",
       "      <th>Labels</th>\n",
       "      <td>5546.2540</td>\n",
       "    </tr>\n",
       "    <tr>\n",
       "      <th>Machines</th>\n",
       "      <td>3384.7569</td>\n",
       "    </tr>\n",
       "    <tr>\n",
       "      <th>Paper</th>\n",
       "      <td>34053.5693</td>\n",
       "    </tr>\n",
       "    <tr>\n",
       "      <th>Phones</th>\n",
       "      <td>44515.7306</td>\n",
       "    </tr>\n",
       "    <tr>\n",
       "      <th>Storage</th>\n",
       "      <td>21278.8264</td>\n",
       "    </tr>\n",
       "    <tr>\n",
       "      <th>Supplies</th>\n",
       "      <td>-1189.0995</td>\n",
       "    </tr>\n",
       "    <tr>\n",
       "      <th>Tables</th>\n",
       "      <td>-17725.4811</td>\n",
       "    </tr>\n",
       "  </tbody>\n",
       "</table>\n",
       "</div>"
      ],
      "text/plain": [
       "                  Profit\n",
       "Sub-Category            \n",
       "Accessories   41936.6357\n",
       "Appliances    18138.0054\n",
       "Art            6527.7870\n",
       "Binders       30221.7633\n",
       "Bookcases     -3472.5560\n",
       "Chairs        26590.1663\n",
       "Copiers       55617.8249\n",
       "Envelopes      6964.1767\n",
       "Fasteners       949.5182\n",
       "Furnishings   13059.1436\n",
       "Labels         5546.2540\n",
       "Machines       3384.7569\n",
       "Paper         34053.5693\n",
       "Phones        44515.7306\n",
       "Storage       21278.8264\n",
       "Supplies      -1189.0995\n",
       "Tables       -17725.4811"
      ]
     },
     "execution_count": 20,
     "metadata": {},
     "output_type": "execute_result"
    }
   ],
   "source": [
    "subcategory_profit=pd.pivot_table(data=data_store,index='Sub-Category',values='Profit',aggfunc=np.sum)\n",
    "subcategory_profit"
   ]
  },
  {
   "cell_type": "markdown",
   "id": "7158d1ed",
   "metadata": {
    "papermill": {
     "duration": 0.045405,
     "end_time": "2021-10-07T07:31:03.531252",
     "exception": false,
     "start_time": "2021-10-07T07:31:03.485847",
     "status": "completed"
    },
    "tags": []
   },
   "source": [
    "# plotting graphs for category against different values parameters "
   ]
  },
  {
   "cell_type": "code",
   "execution_count": 21,
   "id": "9bb5b2bb",
   "metadata": {
    "execution": {
     "iopub.execute_input": "2021-10-07T07:31:03.651915Z",
     "iopub.status.busy": "2021-10-07T07:31:03.649023Z",
     "iopub.status.idle": "2021-10-07T07:31:03.832902Z",
     "shell.execute_reply": "2021-10-07T07:31:03.832241Z",
     "shell.execute_reply.started": "2021-10-07T06:26:33.430594Z"
    },
    "papermill": {
     "duration": 0.256055,
     "end_time": "2021-10-07T07:31:03.833044",
     "exception": false,
     "start_time": "2021-10-07T07:31:03.576989",
     "status": "completed"
    },
    "tags": []
   },
   "outputs": [
    {
     "data": {
      "image/png": "[encoded data removed]",
      "text/plain": [
       "<Figure size 432x288 with 1 Axes>"
      ]
     },
     "metadata": {
      "needs_background": "light"
     },
     "output_type": "display_data"
    }
   ],
   "source": [
    "# bar graph of category against sales \n",
    "plt.bar(category_sales.index,category_sales['Sales'])\n",
    "\n",
    "#xticks\n",
    "plt.xticks(rotation=70)\n",
    "\n",
    "#x-axis labels \n",
    "plt.xlabel('Category')\n",
    "\n",
    "#y-axis labels \n",
    "plt.ylabel('Sales')\n",
    "\n",
    "#title of graph \n",
    "plt.title('Categories against Sales')\n",
    "\n",
    "#display \n",
    "plt.show()"
   ]
  },
  {
   "cell_type": "code",
   "execution_count": 22,
   "id": "eba6e7f9",
   "metadata": {
    "execution": {
     "iopub.execute_input": "2021-10-07T07:31:03.954328Z",
     "iopub.status.busy": "2021-10-07T07:31:03.951143Z",
     "iopub.status.idle": "2021-10-07T07:31:04.110759Z",
     "shell.execute_reply": "2021-10-07T07:31:04.110096Z",
     "shell.execute_reply.started": "2021-10-07T06:26:33.581211Z"
    },
    "papermill": {
     "duration": 0.230524,
     "end_time": "2021-10-07T07:31:04.110905",
     "exception": false,
     "start_time": "2021-10-07T07:31:03.880381",
     "status": "completed"
    },
    "tags": []
   },
   "outputs": [
    {
     "data": {
      "image/png": "[encoded data removed]",
      "text/plain": [
       "<Figure size 432x288 with 1 Axes>"
      ]
     },
     "metadata": {
      "needs_background": "light"
     },
     "output_type": "display_data"
    }
   ],
   "source": [
    "#bar graph against of category against quantity \n",
    "plt.bar(category_quantity.index,category_quantity['Quantity'])\n",
    "\n",
    "#xticks\n",
    "plt.xticks(rotation=70)\n",
    "\n",
    "#xlabel\n",
    "plt.xlabel('Category')\n",
    "\n",
    "#ylabel\n",
    "plt.ylabel('Quantity')\n",
    "\n",
    "#title of graph \n",
    "plt.title('Category against Quantity')\n",
    "\n",
    "#plotting graph \n",
    "plt.show()"
   ]
  },
  {
   "cell_type": "code",
   "execution_count": 23,
   "id": "b50e766c",
   "metadata": {
    "execution": {
     "iopub.execute_input": "2021-10-07T07:31:04.247433Z",
     "iopub.status.busy": "2021-10-07T07:31:04.237177Z",
     "iopub.status.idle": "2021-10-07T07:31:04.387170Z",
     "shell.execute_reply": "2021-10-07T07:31:04.386178Z",
     "shell.execute_reply.started": "2021-10-07T06:26:33.752880Z"
    },
    "papermill": {
     "duration": 0.229298,
     "end_time": "2021-10-07T07:31:04.387345",
     "exception": false,
     "start_time": "2021-10-07T07:31:04.158047",
     "status": "completed"
    },
    "tags": []
   },
   "outputs": [
    {
     "data": {
      "image/png": "[encoded data removed]",
      "text/plain": [
       "<Figure size 432x288 with 1 Axes>"
      ]
     },
     "metadata": {
      "needs_background": "light"
     },
     "output_type": "display_data"
    }
   ],
   "source": [
    "#bar graph of category against discount \n",
    "plt.bar(category_discount.index,category_discount['Discount'])\n",
    "\n",
    "#xticks\n",
    "plt.xticks(rotation=70)\n",
    "\n",
    "#xlabel\n",
    "plt.xlabel('Category')\n",
    "\n",
    "#ylabel\n",
    "plt.ylabel('Discount')\n",
    "\n",
    "#title\n",
    "plt.title('Category against Discount')\n",
    "\n",
    "#show plot \n",
    "plt.show()"
   ]
  },
  {
   "cell_type": "code",
   "execution_count": 24,
   "id": "8e69ffa6",
   "metadata": {
    "execution": {
     "iopub.execute_input": "2021-10-07T07:31:04.494714Z",
     "iopub.status.busy": "2021-10-07T07:31:04.494016Z",
     "iopub.status.idle": "2021-10-07T07:31:04.699502Z",
     "shell.execute_reply": "2021-10-07T07:31:04.698978Z",
     "shell.execute_reply.started": "2021-10-07T06:26:33.920833Z"
    },
    "papermill": {
     "duration": 0.262871,
     "end_time": "2021-10-07T07:31:04.699677",
     "exception": false,
     "start_time": "2021-10-07T07:31:04.436806",
     "status": "completed"
    },
    "tags": []
   },
   "outputs": [
    {
     "data": {
      "text/plain": [
       "<function matplotlib.pyplot.show(close=None, block=None)>"
      ]
     },
     "execution_count": 24,
     "metadata": {},
     "output_type": "execute_result"
    },
    {
     "data": {
      "image/png": "[encoded data removed]",
      "text/plain": [
       "<Figure size 432x288 with 1 Axes>"
      ]
     },
     "metadata": {
      "needs_background": "light"
     },
     "output_type": "display_data"
    }
   ],
   "source": [
    "#bar graph of category against profit \n",
    "plt.bar(category_profit.index,category_profit['Profit'])\n",
    "\n",
    "#xticks \n",
    "plt.xticks(rotation=70)\n",
    "\n",
    "#xlabel\n",
    "plt.xlabel('Category')\n",
    "\n",
    "#ylabel\n",
    "plt.ylabel('Profit')\n",
    "\n",
    "#plt.title\n",
    "plt.title('Category against profit ')\n",
    "\n",
    "#show plot \n",
    "plt.show"
   ]
  },
  {
   "cell_type": "markdown",
   "id": "172f3791",
   "metadata": {
    "papermill": {
     "duration": 0.050219,
     "end_time": "2021-10-07T07:31:04.800896",
     "exception": false,
     "start_time": "2021-10-07T07:31:04.750677",
     "status": "completed"
    },
    "tags": []
   },
   "source": [
    "# Plotting graphs of Sub-Category against different values parameters"
   ]
  },
  {
   "cell_type": "code",
   "execution_count": 25,
   "id": "c6515192",
   "metadata": {
    "execution": {
     "iopub.execute_input": "2021-10-07T07:31:04.934715Z",
     "iopub.status.busy": "2021-10-07T07:31:04.925456Z",
     "iopub.status.idle": "2021-10-07T07:31:05.212934Z",
     "shell.execute_reply": "2021-10-07T07:31:05.213570Z",
     "shell.execute_reply.started": "2021-10-07T06:26:34.125749Z"
    },
    "papermill": {
     "duration": 0.362334,
     "end_time": "2021-10-07T07:31:05.213838",
     "exception": false,
     "start_time": "2021-10-07T07:31:04.851504",
     "status": "completed"
    },
    "tags": []
   },
   "outputs": [
    {
     "data": {
      "image/png": "[encoded data removed]",
      "text/plain": [
       "<Figure size 432x288 with 1 Axes>"
      ]
     },
     "metadata": {
      "needs_background": "light"
     },
     "output_type": "display_data"
    }
   ],
   "source": [
    "#bar graph of subcategory against sales \n",
    "plt.bar(subcategory_sales.index,subcategory_sales['Sales'],color='maroon')\n",
    "\n",
    "#xticks \n",
    "plt.xticks(rotation=70)\n",
    "\n",
    "#xlabel\n",
    "plt.xlabel('Sub_Category')\n",
    "\n",
    "#ylabel()\n",
    "plt.ylabel('Sales')\n",
    "\n",
    "#title\n",
    "plt.title('Sub-category against Sales')\n",
    "\n",
    "#show plot \n",
    "plt.show()"
   ]
  },
  {
   "cell_type": "code",
   "execution_count": 26,
   "id": "0cb0f05a",
   "metadata": {
    "execution": {
     "iopub.execute_input": "2021-10-07T07:31:05.322724Z",
     "iopub.status.busy": "2021-10-07T07:31:05.322052Z",
     "iopub.status.idle": "2021-10-07T07:31:05.621479Z",
     "shell.execute_reply": "2021-10-07T07:31:05.622079Z",
     "shell.execute_reply.started": "2021-10-07T06:26:34.408138Z"
    },
    "papermill": {
     "duration": 0.355485,
     "end_time": "2021-10-07T07:31:05.622271",
     "exception": false,
     "start_time": "2021-10-07T07:31:05.266786",
     "status": "completed"
    },
    "tags": []
   },
   "outputs": [
    {
     "data": {
      "image/png": "[encoded data removed]",
      "text/plain": [
       "<Figure size 432x288 with 1 Axes>"
      ]
     },
     "metadata": {
      "needs_background": "light"
     },
     "output_type": "display_data"
    }
   ],
   "source": [
    "#bar graph of sub category against qauntity \n",
    "plt.bar(subcategory_quantity.index,subcategory_quantity['Quantity'],color='r')\n",
    "\n",
    "#xticks\n",
    "plt.xticks(rotation=70)\n",
    "\n",
    "#xlabel\n",
    "plt.xlabel('Sub-Category')\n",
    "\n",
    "#ylabel\n",
    "plt.ylabel('Quantity')\n",
    "\n",
    "#title\n",
    "plt.title('Sub_Category against Quantity')\n",
    "\n",
    "#show plot \n",
    "plt.show()"
   ]
  },
  {
   "cell_type": "code",
   "execution_count": 27,
   "id": "394de268",
   "metadata": {
    "execution": {
     "iopub.execute_input": "2021-10-07T07:31:05.967042Z",
     "iopub.status.busy": "2021-10-07T07:31:05.955337Z",
     "iopub.status.idle": "2021-10-07T07:31:06.234924Z",
     "shell.execute_reply": "2021-10-07T07:31:06.235467Z",
     "shell.execute_reply.started": "2021-10-07T06:26:34.820075Z"
    },
    "papermill": {
     "duration": 0.560757,
     "end_time": "2021-10-07T07:31:06.235668",
     "exception": false,
     "start_time": "2021-10-07T07:31:05.674911",
     "status": "completed"
    },
    "tags": []
   },
   "outputs": [
    {
     "data": {
      "image/png": "[encoded data removed]",
      "text/plain": [
       "<Figure size 432x288 with 1 Axes>"
      ]
     },
     "metadata": {
      "needs_background": "light"
     },
     "output_type": "display_data"
    }
   ],
   "source": [
    "#bar graph of subcategory against discount \n",
    "plt.bar(subcategory_discount.index,subcategory_discount['Discount'],color='green')\n",
    "\n",
    "#xticks\n",
    "plt.xticks(rotation=70)\n",
    "\n",
    "#xlabel\n",
    "plt.xlabel('Sub-Category')\n",
    "\n",
    "#ylabel\n",
    "plt.ylabel('Discount')\n",
    "\n",
    "#title \n",
    "plt.title('Sub-Category against Discount')\n",
    "\n",
    "#showing graph \n",
    "plt.show()"
   ]
  },
  {
   "cell_type": "code",
   "execution_count": 28,
   "id": "2827faf6",
   "metadata": {
    "execution": {
     "iopub.execute_input": "2021-10-07T07:31:06.366373Z",
     "iopub.status.busy": "2021-10-07T07:31:06.365637Z",
     "iopub.status.idle": "2021-10-07T07:31:06.649570Z",
     "shell.execute_reply": "2021-10-07T07:31:06.650135Z",
     "shell.execute_reply.started": "2021-10-07T06:26:35.103691Z"
    },
    "papermill": {
     "duration": 0.359143,
     "end_time": "2021-10-07T07:31:06.650314",
     "exception": false,
     "start_time": "2021-10-07T07:31:06.291171",
     "status": "completed"
    },
    "tags": []
   },
   "outputs": [
    {
     "data": {
      "image/png": "[encoded data removed]",
      "text/plain": [
       "<Figure size 432x288 with 1 Axes>"
      ]
     },
     "metadata": {
      "needs_background": "light"
     },
     "output_type": "display_data"
    }
   ],
   "source": [
    "#bar graph of subcategory against profit \n",
    "plt.bar(subcategory_profit.index,subcategory_profit['Profit'], color='purple')\n",
    "\n",
    "#xticks\n",
    "plt.xticks(rotation=70)\n",
    "\n",
    "#xlabels\n",
    "plt.xlabel('Sub-Category')\n",
    "\n",
    "#ylabels\n",
    "plt.ylabel('Profit')\n",
    "\n",
    "#title \n",
    "plt.title('Sub_Category against Profit ')\n",
    "\n",
    "#show graph \n",
    "plt.show()"
   ]
  },
  {
   "cell_type": "code",
   "execution_count": 29,
   "id": "412d8686",
   "metadata": {
    "execution": {
     "iopub.execute_input": "2021-10-07T07:31:06.769361Z",
     "iopub.status.busy": "2021-10-07T07:31:06.763156Z",
     "iopub.status.idle": "2021-10-07T07:31:06.939347Z",
     "shell.execute_reply": "2021-10-07T07:31:06.939874Z",
     "shell.execute_reply.started": "2021-10-07T06:33:27.826112Z"
    },
    "papermill": {
     "duration": 0.234625,
     "end_time": "2021-10-07T07:31:06.940070",
     "exception": false,
     "start_time": "2021-10-07T07:31:06.705445",
     "status": "completed"
    },
    "tags": []
   },
   "outputs": [
    {
     "name": "stdout",
     "output_type": "stream",
     "text": [
      "store-data\n",
      "\n"
     ]
    },
    {
     "data": {
      "image/png": "[encoded data removed]",
      "text/plain": [
       "<Figure size 960x480 with 1 Axes>"
      ]
     },
     "metadata": {},
     "output_type": "display_data"
    }
   ],
   "source": [
    "from matplotlib.pyplot import figure\n",
    "from subprocess import check_output\n",
    "print(check_output([\"ls\", \"../input\"]).decode(\"utf8\"))\n",
    "\n",
    "colors=['aqua','lightgrey','lightgreen','#D0F9B1','khaki','grey']\n",
    "data_store['Segment']=np.where(data_store['Segment']==\"Consumer,Corporate\",'Non-binary',data_store['Segment'])\n",
    "segment = data_store['Segment'].value_counts()\n",
    "label=segment.index\n",
    "size=segment.values\n",
    "mylabels=[\"Home Office\",\"Corporate\",\"Consumer\"]\n",
    "\n",
    "myexplode = [0.2, 0, 0, 0]\n",
    "fig_size=figure(figsize=(12,6),dpi=80)\n",
    "plt.pie(size ,startangle=90,shadow=True, colors=colors, labels=mylabels)\n",
    "plt.title(\"Segment distribution\")\n",
    "plt.show()"
   ]
  },
  {
   "cell_type": "code",
   "execution_count": 30,
   "id": "786b8e4a",
   "metadata": {
    "execution": {
     "iopub.execute_input": "2021-10-07T07:31:07.059358Z",
     "iopub.status.busy": "2021-10-07T07:31:07.058608Z",
     "iopub.status.idle": "2021-10-07T07:31:07.064445Z",
     "shell.execute_reply": "2021-10-07T07:31:07.065171Z",
     "shell.execute_reply.started": "2021-10-07T06:29:27.086309Z"
    },
    "papermill": {
     "duration": 0.068418,
     "end_time": "2021-10-07T07:31:07.065374",
     "exception": false,
     "start_time": "2021-10-07T07:31:06.996956",
     "status": "completed"
    },
    "tags": []
   },
   "outputs": [
    {
     "data": {
      "text/plain": [
       "array(['Second Class', 'Second Class', 'Second Class', ...,\n",
       "       'Standard Class', 'Standard Class', 'Second Class'], dtype=object)"
      ]
     },
     "execution_count": 30,
     "metadata": {},
     "output_type": "execute_result"
    }
   ],
   "source": [
    "data_store['Ship Mode'].values"
   ]
  },
  {
   "cell_type": "code",
   "execution_count": 31,
   "id": "413e659a",
   "metadata": {
    "execution": {
     "iopub.execute_input": "2021-10-07T07:31:07.185699Z",
     "iopub.status.busy": "2021-10-07T07:31:07.185001Z",
     "iopub.status.idle": "2021-10-07T07:31:07.322207Z",
     "shell.execute_reply": "2021-10-07T07:31:07.321500Z",
     "shell.execute_reply.started": "2021-10-07T06:30:30.489499Z"
    },
    "papermill": {
     "duration": 0.198435,
     "end_time": "2021-10-07T07:31:07.322360",
     "exception": false,
     "start_time": "2021-10-07T07:31:07.123925",
     "status": "completed"
    },
    "tags": []
   },
   "outputs": [
    {
     "data": {
      "image/png": "[encoded data removed]",
      "text/plain": [
       "<Figure size 960x480 with 1 Axes>"
      ]
     },
     "metadata": {},
     "output_type": "display_data"
    }
   ],
   "source": [
    "from matplotlib.pyplot import figure \n",
    "colors=['m','c','b','y','k','w']\n",
    "ship_mode = data_store['Ship Mode'].value_counts()\n",
    "label= ship_mode.index\n",
    "size=ship_mode.values\n",
    "myexplode=[0.2,0.0,0.0,0.0]\n",
    "fig_size=figure(figsize=(12,6),dpi=80)\n",
    "plt.pie(size,labels=label,shadow=True,colors=colors,startangle=90)\n",
    "plt.title(\"Ship Mode\")\n",
    "plt.show()"
   ]
  },
  {
   "cell_type": "code",
   "execution_count": 32,
   "id": "2587983f",
   "metadata": {
    "execution": {
     "iopub.execute_input": "2021-10-07T07:31:07.466500Z",
     "iopub.status.busy": "2021-10-07T07:31:07.463129Z",
     "iopub.status.idle": "2021-10-07T07:31:08.176586Z",
     "shell.execute_reply": "2021-10-07T07:31:08.177114Z",
     "shell.execute_reply.started": "2021-10-07T06:30:35.900099Z"
    },
    "papermill": {
     "duration": 0.798065,
     "end_time": "2021-10-07T07:31:08.177283",
     "exception": false,
     "start_time": "2021-10-07T07:31:07.379218",
     "status": "completed"
    },
    "tags": []
   },
   "outputs": [
    {
     "data": {
      "image/png": "[encoded data removed]",
      "text/plain": [
       "<Figure size 1600x800 with 1 Axes>"
      ]
     },
     "metadata": {},
     "output_type": "display_data"
    }
   ],
   "source": [
    "from matplotlib.pyplot import figure \n",
    "state=data_store['State'].value_counts()\n",
    "label= state.index\n",
    "size=state.values\n",
    "fig_size=figure(figsize=(20,10),dpi=80)\n",
    "plt.pie(size,labels=label,shadow=True,startangle=90)\n",
    "plt.title(\"Overall states\")\n",
    "plt.show()"
   ]
  },
  {
   "cell_type": "code",
   "execution_count": 33,
   "id": "d8d46942",
   "metadata": {
    "execution": {
     "iopub.execute_input": "2021-10-07T07:31:08.322772Z",
     "iopub.status.busy": "2021-10-07T07:31:08.305842Z",
     "iopub.status.idle": "2021-10-07T07:31:08.803529Z",
     "shell.execute_reply": "2021-10-07T07:31:08.802987Z",
     "shell.execute_reply.started": "2021-10-07T06:30:41.301742Z"
    },
    "papermill": {
     "duration": 0.563757,
     "end_time": "2021-10-07T07:31:08.803685",
     "exception": false,
     "start_time": "2021-10-07T07:31:08.239928",
     "status": "completed"
    },
    "tags": []
   },
   "outputs": [
    {
     "data": {
      "text/plain": [
       "<AxesSubplot:xlabel='Segment', ylabel='count'>"
      ]
     },
     "execution_count": 33,
     "metadata": {},
     "output_type": "execute_result"
    },
    {
     "data": {
      "image/png": "[encoded data removed]",
      "text/plain": [
       "<Figure size 1080x576 with 1 Axes>"
      ]
     },
     "metadata": {
      "needs_background": "light"
     },
     "output_type": "display_data"
    }
   ],
   "source": [
    "plt.figure(figsize=(15,8))\n",
    "sns.countplot(x='Segment',data=data_store,hue='Quantity')"
   ]
  },
  {
   "cell_type": "code",
   "execution_count": 34,
   "id": "136334b6",
   "metadata": {
    "execution": {
     "iopub.execute_input": "2021-10-07T07:31:08.939859Z",
     "iopub.status.busy": "2021-10-07T07:31:08.937008Z",
     "iopub.status.idle": "2021-10-07T07:31:10.248045Z",
     "shell.execute_reply": "2021-10-07T07:31:10.247432Z",
     "shell.execute_reply.started": "2021-10-07T06:30:45.877675Z"
    },
    "papermill": {
     "duration": 1.380464,
     "end_time": "2021-10-07T07:31:10.248194",
     "exception": false,
     "start_time": "2021-10-07T07:31:08.867730",
     "status": "completed"
    },
    "tags": []
   },
   "outputs": [
    {
     "data": {
      "text/plain": [
       "<seaborn.axisgrid.JointGrid at 0x7f38f89f57d0>"
      ]
     },
     "execution_count": 34,
     "metadata": {},
     "output_type": "execute_result"
    },
    {
     "data": {
      "image/png": "[encoded data removed]",
      "text/plain": [
       "<Figure size 432x432 with 3 Axes>"
      ]
     },
     "metadata": {
      "needs_background": "light"
     },
     "output_type": "display_data"
    }
   ],
   "source": [
    "sns.jointplot(x='Postal Code',y='Discount',data=data_store,kind='reg')"
   ]
  },
  {
   "cell_type": "code",
   "execution_count": 35,
   "id": "7767bd92",
   "metadata": {
    "execution": {
     "iopub.execute_input": "2021-10-07T07:31:10.409328Z",
     "iopub.status.busy": "2021-10-07T07:31:10.398541Z",
     "iopub.status.idle": "2021-10-07T07:31:37.063215Z",
     "shell.execute_reply": "2021-10-07T07:31:37.063739Z",
     "shell.execute_reply.started": "2021-10-07T06:30:51.242507Z"
    },
    "papermill": {
     "duration": 26.751243,
     "end_time": "2021-10-07T07:31:37.063922",
     "exception": false,
     "start_time": "2021-10-07T07:31:10.312679",
     "status": "completed"
    },
    "tags": []
   },
   "outputs": [
    {
     "data": {
      "text/plain": [
       "<seaborn.axisgrid.PairGrid at 0x7f38f8413450>"
      ]
     },
     "execution_count": 35,
     "metadata": {},
     "output_type": "execute_result"
    },
    {
     "data": {
      "image/png": "[encoded data removed]",
      "text/plain": [
       "<Figure size 1080x1080 with 42 Axes>"
      ]
     },
     "metadata": {
      "needs_background": "light"
     },
     "output_type": "display_data"
    }
   ],
   "source": [
    "sns.pairplot(data_store)"
   ]
  },
  {
   "cell_type": "code",
   "execution_count": 36,
   "id": "1d7819eb",
   "metadata": {
    "execution": {
     "iopub.execute_input": "2021-10-07T07:31:37.225891Z",
     "iopub.status.busy": "2021-10-07T07:31:37.225178Z",
     "iopub.status.idle": "2021-10-07T07:31:37.738309Z",
     "shell.execute_reply": "2021-10-07T07:31:37.738850Z",
     "shell.execute_reply.started": "2021-10-07T06:33:50.276834Z"
    },
    "papermill": {
     "duration": 0.604669,
     "end_time": "2021-10-07T07:31:37.739025",
     "exception": false,
     "start_time": "2021-10-07T07:31:37.134356",
     "status": "completed"
    },
    "tags": []
   },
   "outputs": [
    {
     "data": {
      "text/plain": [
       "<AxesSubplot:xlabel='Region', ylabel='count'>"
      ]
     },
     "execution_count": 36,
     "metadata": {},
     "output_type": "execute_result"
    },
    {
     "data": {
      "image/png": "[encoded data removed]",
      "text/plain": [
       "<Figure size 720x360 with 1 Axes>"
      ]
     },
     "metadata": {
      "needs_background": "light"
     },
     "output_type": "display_data"
    }
   ],
   "source": [
    "plt.figure(figsize=(10,5))\n",
    "sns.countplot(x=\"Region\",data=data_store, hue=\"Quantity\")\n"
   ]
  },
  {
   "cell_type": "code",
   "execution_count": 37,
   "id": "ef39f7b8",
   "metadata": {
    "execution": {
     "iopub.execute_input": "2021-10-07T07:31:37.889455Z",
     "iopub.status.busy": "2021-10-07T07:31:37.884972Z",
     "iopub.status.idle": "2021-10-07T07:31:37.920446Z",
     "shell.execute_reply": "2021-10-07T07:31:37.919945Z",
     "shell.execute_reply.started": "2021-10-07T06:58:33.481289Z"
    },
    "papermill": {
     "duration": 0.110299,
     "end_time": "2021-10-07T07:31:37.920601",
     "exception": false,
     "start_time": "2021-10-07T07:31:37.810302",
     "status": "completed"
    },
    "tags": []
   },
   "outputs": [
    {
     "data": {
      "text/html": [
       "<div>\n",
       "<style scoped>\n",
       "    .dataframe tbody tr th:only-of-type {\n",
       "        vertical-align: middle;\n",
       "    }\n",
       "\n",
       "    .dataframe tbody tr th {\n",
       "        vertical-align: top;\n",
       "    }\n",
       "\n",
       "    .dataframe thead th {\n",
       "        text-align: right;\n",
       "    }\n",
       "</style>\n",
       "<table border=\"1\" class=\"dataframe\">\n",
       "  <thead>\n",
       "    <tr style=\"text-align: right;\">\n",
       "      <th></th>\n",
       "      <th>Region</th>\n",
       "      <th>State</th>\n",
       "      <th>Postal Code</th>\n",
       "      <th>Discount</th>\n",
       "      <th>Count</th>\n",
       "    </tr>\n",
       "  </thead>\n",
       "  <tbody>\n",
       "    <tr>\n",
       "      <th>0</th>\n",
       "      <td>Central</td>\n",
       "      <td>Illinois</td>\n",
       "      <td>60004</td>\n",
       "      <td>0.2</td>\n",
       "      <td>1</td>\n",
       "    </tr>\n",
       "    <tr>\n",
       "      <th>1</th>\n",
       "      <td>Central</td>\n",
       "      <td>Illinois</td>\n",
       "      <td>60016</td>\n",
       "      <td>0.2</td>\n",
       "      <td>2</td>\n",
       "    </tr>\n",
       "    <tr>\n",
       "      <th>2</th>\n",
       "      <td>Central</td>\n",
       "      <td>Illinois</td>\n",
       "      <td>60016</td>\n",
       "      <td>0.3</td>\n",
       "      <td>1</td>\n",
       "    </tr>\n",
       "    <tr>\n",
       "      <th>3</th>\n",
       "      <td>Central</td>\n",
       "      <td>Illinois</td>\n",
       "      <td>60016</td>\n",
       "      <td>0.5</td>\n",
       "      <td>1</td>\n",
       "    </tr>\n",
       "    <tr>\n",
       "      <th>4</th>\n",
       "      <td>Central</td>\n",
       "      <td>Illinois</td>\n",
       "      <td>60016</td>\n",
       "      <td>0.6</td>\n",
       "      <td>1</td>\n",
       "    </tr>\n",
       "  </tbody>\n",
       "</table>\n",
       "</div>"
      ],
      "text/plain": [
       "    Region     State  Postal Code  Discount  Count\n",
       "0  Central  Illinois        60004       0.2      1\n",
       "1  Central  Illinois        60016       0.2      2\n",
       "2  Central  Illinois        60016       0.3      1\n",
       "3  Central  Illinois        60016       0.5      1\n",
       "4  Central  Illinois        60016       0.6      1"
      ]
     },
     "execution_count": 37,
     "metadata": {},
     "output_type": "execute_result"
    }
   ],
   "source": [
    "data_sunburst=data_store.groupby(by=[\"Region\",\"State\",\"Postal Code\",\"Discount\"]).count()[[\"Quantity\"]].rename(columns={\"Quantity\":\"Count\"})\n",
    "data_sunburst=data_sunburst.reset_index()\n",
    "data_sunburst.head()"
   ]
  },
  {
   "cell_type": "code",
   "execution_count": 38,
   "id": "38e6d796",
   "metadata": {
    "execution": {
     "iopub.execute_input": "2021-10-07T07:31:38.072372Z",
     "iopub.status.busy": "2021-10-07T07:31:38.071629Z",
     "iopub.status.idle": "2021-10-07T07:31:39.050812Z",
     "shell.execute_reply": "2021-10-07T07:31:39.051376Z",
     "shell.execute_reply.started": "2021-10-07T07:02:29.332269Z"
    },
    "papermill": {
     "duration": 1.058761,
     "end_time": "2021-10-07T07:31:39.051549",
     "exception": false,
     "start_time": "2021-10-07T07:31:37.992788",
     "status": "completed"
    },
    "tags": []
   },
   "outputs": [
    {
     "data": {
      "application/vnd.plotly.v1+json": {
       "config": {
        "plotlyServerURL": "https://plot.ly"
       },
       "data": [
        {
         "branchvalues": "total",
         "domain": {
          "x": [
           0.0,
           1.0
          ],
          "y": [
           0.0,
           1.0
          ]
         },
         "hovertemplate": "labels=%{label}<br>Count=%{value}<br>parent=%{parent}<br>id=%{id}<extra></extra>",
         "ids": [
          "South/Alabama/0.0",
          "South/Arkansas/0.0",
          "West/California/0.0",
          "East/Connecticut/0.0",
          "East/Delaware/0.0",
          "East/District of Columbia/0.0",
          "South/Georgia/0.0",
          "West/Idaho/0.0",
          "Central/Indiana/0.0",
          "Central/Iowa/0.0",
          "Central/Kansas/0.0",
          "South/Kentucky/0.0",
          "South/Louisiana/0.0",
          "East/Maine/0.0",
          "East/Maryland/0.0",
          "East/Massachusetts/0.0",
          "Central/Michigan/0.0",
          "Central/Minnesota/0.0",
          "South/Mississippi/0.0",
          "Central/Missouri/0.0",
          "West/Montana/0.0",
          "Central/Nebraska/0.0",
          "West/Nevada/0.0",
          "East/New Hampshire/0.0",
          "East/New Jersey/0.0",
          "West/New Mexico/0.0",
          "East/New York/0.0",
          "Central/North Dakota/0.0",
          "Central/Oklahoma/0.0",
          "East/Rhode Island/0.0",
          "South/South Carolina/0.0",
          "Central/South Dakota/0.0",
          "West/Utah/0.0",
          "East/Vermont/0.0",
          "South/Virginia/0.0",
          "West/Washington/0.0",
          "East/West Virginia/0.0",
          "Central/Wisconsin/0.0",
          "Central/Michigan/0.1",
          "East/New York/0.1",
          "West/California/0.15",
          "West/Arizona/0.2",
          "West/California/0.2",
          "West/Colorado/0.2",
          "South/Florida/0.2",
          "West/Idaho/0.2",
          "Central/Illinois/0.2",
          "West/Montana/0.2",
          "West/Nevada/0.2",
          "West/New Mexico/0.2",
          "East/New York/0.2",
          "South/North Carolina/0.2",
          "East/Ohio/0.2",
          "West/Oregon/0.2",
          "East/Pennsylvania/0.2",
          "South/Tennessee/0.2",
          "Central/Texas/0.2",
          "West/Utah/0.2",
          "West/Washington/0.2",
          "West/Wyoming/0.2",
          "East/Connecticut/0.3",
          "East/Delaware/0.3",
          "Central/Illinois/0.3",
          "East/Maryland/0.3",
          "East/Massachusetts/0.3",
          "East/New Hampshire/0.3",
          "East/New Jersey/0.3",
          "East/Ohio/0.3",
          "East/Pennsylvania/0.3",
          "East/Rhode Island/0.3",
          "Central/Texas/0.3",
          "East/West Virginia/0.3",
          "Central/Texas/0.32",
          "East/New York/0.4",
          "South/North Carolina/0.4",
          "East/Ohio/0.4",
          "East/Pennsylvania/0.4",
          "South/Tennessee/0.4",
          "Central/Texas/0.4",
          "South/Florida/0.45",
          "West/Arizona/0.5",
          "West/Colorado/0.5",
          "South/Florida/0.5",
          "Central/Illinois/0.5",
          "South/North Carolina/0.5",
          "East/Ohio/0.5",
          "West/Oregon/0.5",
          "East/Pennsylvania/0.5",
          "South/Tennessee/0.5",
          "Central/Illinois/0.6",
          "Central/Texas/0.6",
          "West/Arizona/0.7",
          "West/Colorado/0.7",
          "South/Florida/0.7",
          "South/North Carolina/0.7",
          "East/Ohio/0.7",
          "West/Oregon/0.7",
          "East/Pennsylvania/0.7",
          "South/Tennessee/0.7",
          "Central/Illinois/0.8",
          "Central/Texas/0.8",
          "South/Alabama",
          "West/Arizona",
          "South/Arkansas",
          "West/California",
          "West/Colorado",
          "East/Connecticut",
          "East/Delaware",
          "East/District of Columbia",
          "South/Florida",
          "South/Georgia",
          "West/Idaho",
          "Central/Illinois",
          "Central/Indiana",
          "Central/Iowa",
          "Central/Kansas",
          "South/Kentucky",
          "South/Louisiana",
          "East/Maine",
          "East/Maryland",
          "East/Massachusetts",
          "Central/Michigan",
          "Central/Minnesota",
          "South/Mississippi",
          "Central/Missouri",
          "West/Montana",
          "Central/Nebraska",
          "West/Nevada",
          "East/New Hampshire",
          "East/New Jersey",
          "West/New Mexico",
          "East/New York",
          "South/North Carolina",
          "Central/North Dakota",
          "East/Ohio",
          "Central/Oklahoma",
          "West/Oregon",
          "East/Pennsylvania",
          "East/Rhode Island",
          "South/South Carolina",
          "Central/South Dakota",
          "South/Tennessee",
          "Central/Texas",
          "West/Utah",
          "East/Vermont",
          "South/Virginia",
          "West/Washington",
          "East/West Virginia",
          "Central/Wisconsin",
          "West/Wyoming",
          "Central",
          "East",
          "South",
          "West"
         ],
         "labels": [
          "0.0",
          "0.0",
          "0.0",
          "0.0",
          "0.0",
          "0.0",
          "0.0",
          "0.0",
          "0.0",
          "0.0",
          "0.0",
          "0.0",
          "0.0",
          "0.0",
          "0.0",
          "0.0",
          "0.0",
          "0.0",
          "0.0",
          "0.0",
          "0.0",
          "0.0",
          "0.0",
          "0.0",
          "0.0",
          "0.0",
          "0.0",
          "0.0",
          "0.0",
          "0.0",
          "0.0",
          "0.0",
          "0.0",
          "0.0",
          "0.0",
          "0.0",
          "0.0",
          "0.0",
          "0.1",
          "0.1",
          "0.15",
          "0.2",
          "0.2",
          "0.2",
          "0.2",
          "0.2",
          "0.2",
          "0.2",
          "0.2",
          "0.2",
          "0.2",
          "0.2",
          "0.2",
          "0.2",
          "0.2",
          "0.2",
          "0.2",
          "0.2",
          "0.2",
          "0.2",
          "0.3",
          "0.3",
          "0.3",
          "0.3",
          "0.3",
          "0.3",
          "0.3",
          "0.3",
          "0.3",
          "0.3",
          "0.3",
          "0.3",
          "0.32",
          "0.4",
          "0.4",
          "0.4",
          "0.4",
          "0.4",
          "0.4",
          "0.45",
          "0.5",
          "0.5",
          "0.5",
          "0.5",
          "0.5",
          "0.5",
          "0.5",
          "0.5",
          "0.5",
          "0.6",
          "0.6",
          "0.7",
          "0.7",
          "0.7",
          "0.7",
          "0.7",
          "0.7",
          "0.7",
          "0.7",
          "0.8",
          "0.8",
          "Alabama",
          "Arizona",
          "Arkansas",
          "California",
          "Colorado",
          "Connecticut",
          "Delaware",
          "District of Columbia",
          "Florida",
          "Georgia",
          "Idaho",
          "Illinois",
          "Indiana",
          "Iowa",
          "Kansas",
          "Kentucky",
          "Louisiana",
          "Maine",
          "Maryland",
          "Massachusetts",
          "Michigan",
          "Minnesota",
          "Mississippi",
          "Missouri",
          "Montana",
          "Nebraska",
          "Nevada",
          "New Hampshire",
          "New Jersey",
          "New Mexico",
          "New York",
          "North Carolina",
          "North Dakota",
          "Ohio",
          "Oklahoma",
          "Oregon",
          "Pennsylvania",
          "Rhode Island",
          "South Carolina",
          "South Dakota",
          "Tennessee",
          "Texas",
          "Utah",
          "Vermont",
          "Virginia",
          "Washington",
          "West Virginia",
          "Wisconsin",
          "Wyoming",
          "Central",
          "East",
          "South",
          "West"
         ],
         "name": "",
         "parents": [
          "South/Alabama",
          "South/Arkansas",
          "West/California",
          "East/Connecticut",
          "East/Delaware",
          "East/District of Columbia",
          "South/Georgia",
          "West/Idaho",
          "Central/Indiana",
          "Central/Iowa",
          "Central/Kansas",
          "South/Kentucky",
          "South/Louisiana",
          "East/Maine",
          "East/Maryland",
          "East/Massachusetts",
          "Central/Michigan",
          "Central/Minnesota",
          "South/Mississippi",
          "Central/Missouri",
          "West/Montana",
          "Central/Nebraska",
          "West/Nevada",
          "East/New Hampshire",
          "East/New Jersey",
          "West/New Mexico",
          "East/New York",
          "Central/North Dakota",
          "Central/Oklahoma",
          "East/Rhode Island",
          "South/South Carolina",
          "Central/South Dakota",
          "West/Utah",
          "East/Vermont",
          "South/Virginia",
          "West/Washington",
          "East/West Virginia",
          "Central/Wisconsin",
          "Central/Michigan",
          "East/New York",
          "West/California",
          "West/Arizona",
          "West/California",
          "West/Colorado",
          "South/Florida",
          "West/Idaho",
          "Central/Illinois",
          "West/Montana",
          "West/Nevada",
          "West/New Mexico",
          "East/New York",
          "South/North Carolina",
          "East/Ohio",
          "West/Oregon",
          "East/Pennsylvania",
          "South/Tennessee",
          "Central/Texas",
          "West/Utah",
          "West/Washington",
          "West/Wyoming",
          "East/Connecticut",
          "East/Delaware",
          "Central/Illinois",
          "East/Maryland",
          "East/Massachusetts",
          "East/New Hampshire",
          "East/New Jersey",
          "East/Ohio",
          "East/Pennsylvania",
          "East/Rhode Island",
          "Central/Texas",
          "East/West Virginia",
          "Central/Texas",
          "East/New York",
          "South/North Carolina",
          "East/Ohio",
          "East/Pennsylvania",
          "South/Tennessee",
          "Central/Texas",
          "South/Florida",
          "West/Arizona",
          "West/Colorado",
          "South/Florida",
          "Central/Illinois",
          "South/North Carolina",
          "East/Ohio",
          "West/Oregon",
          "East/Pennsylvania",
          "South/Tennessee",
          "Central/Illinois",
          "Central/Texas",
          "West/Arizona",
          "West/Colorado",
          "South/Florida",
          "South/North Carolina",
          "East/Ohio",
          "West/Oregon",
          "East/Pennsylvania",
          "South/Tennessee",
          "Central/Illinois",
          "Central/Texas",
          "South",
          "West",
          "South",
          "West",
          "West",
          "East",
          "East",
          "East",
          "South",
          "South",
          "West",
          "Central",
          "Central",
          "Central",
          "Central",
          "South",
          "South",
          "East",
          "East",
          "East",
          "Central",
          "Central",
          "South",
          "Central",
          "West",
          "Central",
          "West",
          "East",
          "East",
          "West",
          "East",
          "South",
          "Central",
          "East",
          "Central",
          "West",
          "East",
          "East",
          "South",
          "Central",
          "South",
          "Central",
          "West",
          "East",
          "South",
          "West",
          "East",
          "Central",
          "West",
          "",
          "",
          "",
          ""
         ],
         "type": "sunburst",
         "values": [
          61,
          60,
          1260,
          80,
          94,
          10,
          184,
          12,
          149,
          30,
          24,
          139,
          42,
          8,
          103,
          128,
          237,
          89,
          53,
          66,
          10,
          38,
          27,
          26,
          128,
          26,
          806,
          7,
          66,
          52,
          42,
          12,
          37,
          11,
          224,
          344,
          3,
          110,
          18,
          76,
          52,
          174,
          689,
          138,
          299,
          9,
          264,
          5,
          12,
          11,
          218,
          201,
          290,
          100,
          354,
          144,
          570,
          16,
          162,
          1,
          2,
          2,
          53,
          2,
          7,
          1,
          2,
          23,
          36,
          4,
          94,
          1,
          27,
          28,
          8,
          67,
          82,
          8,
          13,
          11,
          9,
          4,
          6,
          18,
          4,
          8,
          5,
          10,
          2,
          57,
          81,
          41,
          40,
          67,
          36,
          81,
          19,
          105,
          29,
          100,
          200,
          61,
          224,
          60,
          2001,
          182,
          82,
          96,
          10,
          383,
          184,
          21,
          492,
          149,
          30,
          24,
          139,
          42,
          8,
          105,
          135,
          255,
          89,
          53,
          66,
          15,
          38,
          39,
          27,
          130,
          37,
          1128,
          249,
          7,
          469,
          66,
          124,
          587,
          56,
          42,
          12,
          183,
          985,
          53,
          11,
          224,
          506,
          4,
          110,
          1,
          2323,
          2848,
          1620,
          3203
         ]
        }
       ],
       "layout": {
        "height": 750,
        "legend": {
         "tracegroupgap": 0
        },
        "template": {
         "data": {
          "bar": [
           {
            "error_x": {
             "color": "#2a3f5f"
            },
            "error_y": {
             "color": "#2a3f5f"
            },
            "marker": {
             "line": {
              "color": "#E5ECF6",
              "width": 0.5
             },
             "pattern": {
              "fillmode": "overlay",
              "size": 10,
              "solidity": 0.2
             }
            },
            "type": "bar"
           }
          ],
          "barpolar": [
           {
            "marker": {
             "line": {
              "color": "#E5ECF6",
              "width": 0.5
             },
             "pattern": {
              "fillmode": "overlay",
              "size": 10,
              "solidity": 0.2
             }
            },
            "type": "barpolar"
           }
          ],
          "carpet": [
           {
            "aaxis": {
             "endlinecolor": "#2a3f5f",
             "gridcolor": "white",
             "linecolor": "white",
             "minorgridcolor": "white",
             "startlinecolor": "#2a3f5f"
            },
            "baxis": {
             "endlinecolor": "#2a3f5f",
             "gridcolor": "white",
             "linecolor": "white",
             "minorgridcolor": "white",
             "startlinecolor": "#2a3f5f"
            },
            "type": "carpet"
           }
          ],
          "choropleth": [
           {
            "colorbar": {
             "outlinewidth": 0,
             "ticks": ""
            },
            "type": "choropleth"
           }
          ],
          "contour": [
           {
            "colorbar": {
             "outlinewidth": 0,
             "ticks": ""
            },
            "colorscale": [
             [
              0.0,
              "#0d0887"
             ],
             [
              0.1111111111111111,
              "#46039f"
             ],
             [
              0.2222222222222222,
              "#7201a8"
             ],
             [
              0.3333333333333333,
              "#9c179e"
             ],
             [
              0.4444444444444444,
              "#bd3786"
             ],
             [
              0.5555555555555556,
              "#d8576b"
             ],
             [
              0.6666666666666666,
              "#ed7953"
             ],
             [
              0.7777777777777778,
              "#fb9f3a"
             ],
             [
              0.8888888888888888,
              "#fdca26"
             ],
             [
              1.0,
              "#f0f921"
             ]
            ],
            "type": "contour"
           }
          ],
          "contourcarpet": [
           {
            "colorbar": {
             "outlinewidth": 0,
             "ticks": ""
            },
            "type": "contourcarpet"
           }
          ],
          "heatmap": [
           {
            "colorbar": {
             "outlinewidth": 0,
             "ticks": ""
            },
            "colorscale": [
             [
              0.0,
              "#0d0887"
             ],
             [
              0.1111111111111111,
              "#46039f"
             ],
             [
              0.2222222222222222,
              "#7201a8"
             ],
             [
              0.3333333333333333,
              "#9c179e"
             ],
             [
              0.4444444444444444,
              "#bd3786"
             ],
             [
              0.5555555555555556,
              "#d8576b"
             ],
             [
              0.6666666666666666,
              "#ed7953"
             ],
             [
              0.7777777777777778,
              "#fb9f3a"
             ],
             [
              0.8888888888888888,
              "#fdca26"
             ],
             [
              1.0,
              "#f0f921"
             ]
            ],
            "type": "heatmap"
           }
          ],
          "heatmapgl": [
           {
            "colorbar": {
             "outlinewidth": 0,
             "ticks": ""
            },
            "colorscale": [
             [
              0.0,
              "#0d0887"
             ],
             [
              0.1111111111111111,
              "#46039f"
             ],
             [
              0.2222222222222222,
              "#7201a8"
             ],
             [
              0.3333333333333333,
              "#9c179e"
             ],
             [
              0.4444444444444444,
              "#bd3786"
             ],
             [
              0.5555555555555556,
              "#d8576b"
             ],
             [
              0.6666666666666666,
              "#ed7953"
             ],
             [
              0.7777777777777778,
              "#fb9f3a"
             ],
             [
              0.8888888888888888,
              "#fdca26"
             ],
             [
              1.0,
              "#f0f921"
             ]
            ],
            "type": "heatmapgl"
           }
          ],
          "histogram": [
           {
            "marker": {
             "pattern": {
              "fillmode": "overlay",
              "size": 10,
              "solidity": 0.2
             }
            },
            "type": "histogram"
           }
          ],
          "histogram2d": [
           {
            "colorbar": {
             "outlinewidth": 0,
             "ticks": ""
            },
            "colorscale": [
             [
              0.0,
              "#0d0887"
             ],
             [
              0.1111111111111111,
              "#46039f"
             ],
             [
              0.2222222222222222,
              "#7201a8"
             ],
             [
              0.3333333333333333,
              "#9c179e"
             ],
             [
              0.4444444444444444,
              "#bd3786"
             ],
             [
              0.5555555555555556,
              "#d8576b"
             ],
             [
              0.6666666666666666,
              "#ed7953"
             ],
             [
              0.7777777777777778,
              "#fb9f3a"
             ],
             [
              0.8888888888888888,
              "#fdca26"
             ],
             [
              1.0,
              "#f0f921"
             ]
            ],
            "type": "histogram2d"
           }
          ],
          "histogram2dcontour": [
           {
            "colorbar": {
             "outlinewidth": 0,
             "ticks": ""
            },
            "colorscale": [
             [
              0.0,
              "#0d0887"
             ],
             [
              0.1111111111111111,
              "#46039f"
             ],
             [
              0.2222222222222222,
              "#7201a8"
             ],
             [
              0.3333333333333333,
              "#9c179e"
             ],
             [
              0.4444444444444444,
              "#bd3786"
             ],
             [
              0.5555555555555556,
              "#d8576b"
             ],
             [
              0.6666666666666666,
              "#ed7953"
             ],
             [
              0.7777777777777778,
              "#fb9f3a"
             ],
             [
              0.8888888888888888,
              "#fdca26"
             ],
             [
              1.0,
              "#f0f921"
             ]
            ],
            "type": "histogram2dcontour"
           }
          ],
          "mesh3d": [
           {
            "colorbar": {
             "outlinewidth": 0,
             "ticks": ""
            },
            "type": "mesh3d"
           }
          ],
          "parcoords": [
           {
            "line": {
             "colorbar": {
              "outlinewidth": 0,
              "ticks": ""
             }
            },
            "type": "parcoords"
           }
          ],
          "pie": [
           {
            "automargin": true,
            "type": "pie"
           }
          ],
          "scatter": [
           {
            "marker": {
             "colorbar": {
              "outlinewidth": 0,
              "ticks": ""
             }
            },
            "type": "scatter"
           }
          ],
          "scatter3d": [
           {
            "line": {
             "colorbar": {
              "outlinewidth": 0,
              "ticks": ""
             }
            },
            "marker": {
             "colorbar": {
              "outlinewidth": 0,
              "ticks": ""
             }
            },
            "type": "scatter3d"
           }
          ],
          "scattercarpet": [
           {
            "marker": {
             "colorbar": {
              "outlinewidth": 0,
              "ticks": ""
             }
            },
            "type": "scattercarpet"
           }
          ],
          "scattergeo": [
           {
            "marker": {
             "colorbar": {
              "outlinewidth": 0,
              "ticks": ""
             }
            },
            "type": "scattergeo"
           }
          ],
          "scattergl": [
           {
            "marker": {
             "colorbar": {
              "outlinewidth": 0,
              "ticks": ""
             }
            },
            "type": "scattergl"
           }
          ],
          "scattermapbox": [
           {
            "marker": {
             "colorbar": {
              "outlinewidth": 0,
              "ticks": ""
             }
            },
            "type": "scattermapbox"
           }
          ],
          "scatterpolar": [
           {
            "marker": {
             "colorbar": {
              "outlinewidth": 0,
              "ticks": ""
             }
            },
            "type": "scatterpolar"
           }
          ],
          "scatterpolargl": [
           {
            "marker": {
             "colorbar": {
              "outlinewidth": 0,
              "ticks": ""
             }
            },
            "type": "scatterpolargl"
           }
          ],
          "scatterternary": [
           {
            "marker": {
             "colorbar": {
              "outlinewidth": 0,
              "ticks": ""
             }
            },
            "type": "scatterternary"
           }
          ],
          "surface": [
           {
            "colorbar": {
             "outlinewidth": 0,
             "ticks": ""
            },
            "colorscale": [
             [
              0.0,
              "#0d0887"
             ],
             [
              0.1111111111111111,
              "#46039f"
             ],
             [
              0.2222222222222222,
              "#7201a8"
             ],
             [
              0.3333333333333333,
              "#9c179e"
             ],
             [
              0.4444444444444444,
              "#bd3786"
             ],
             [
              0.5555555555555556,
              "#d8576b"
             ],
             [
              0.6666666666666666,
              "#ed7953"
             ],
             [
              0.7777777777777778,
              "#fb9f3a"
             ],
             [
              0.8888888888888888,
              "#fdca26"
             ],
             [
              1.0,
              "#f0f921"
             ]
            ],
            "type": "surface"
           }
          ],
          "table": [
           {
            "cells": {
             "fill": {
              "color": "#EBF0F8"
             },
             "line": {
              "color": "white"
             }
            },
            "header": {
             "fill": {
              "color": "#C8D4E3"
             },
             "line": {
              "color": "white"
             }
            },
            "type": "table"
           }
          ]
         },
         "layout": {
          "annotationdefaults": {
           "arrowcolor": "#2a3f5f",
           "arrowhead": 0,
           "arrowwidth": 1
          },
          "autotypenumbers": "strict",
          "coloraxis": {
           "colorbar": {
            "outlinewidth": 0,
            "ticks": ""
           }
          },
          "colorscale": {
           "diverging": [
            [
             0,
             "#8e0152"
            ],
            [
             0.1,
             "#c51b7d"
            ],
            [
             0.2,
             "#de77ae"
            ],
            [
             0.3,
             "#f1b6da"
            ],
            [
             0.4,
             "#fde0ef"
            ],
            [
             0.5,
             "#f7f7f7"
            ],
            [
             0.6,
             "#e6f5d0"
            ],
            [
             0.7,
             "#b8e186"
            ],
            [
             0.8,
             "#7fbc41"
            ],
            [
             0.9,
             "#4d9221"
            ],
            [
             1,
             "#276419"
            ]
           ],
           "sequential": [
            [
             0.0,
             "#0d0887"
            ],
            [
             0.1111111111111111,
             "#46039f"
            ],
            [
             0.2222222222222222,
             "#7201a8"
            ],
            [
             0.3333333333333333,
             "#9c179e"
            ],
            [
             0.4444444444444444,
             "#bd3786"
            ],
            [
             0.5555555555555556,
             "#d8576b"
            ],
            [
             0.6666666666666666,
             "#ed7953"
            ],
            [
             0.7777777777777778,
             "#fb9f3a"
            ],
            [
             0.8888888888888888,
             "#fdca26"
            ],
            [
             1.0,
             "#f0f921"
            ]
           ],
           "sequentialminus": [
            [
             0.0,
             "#0d0887"
            ],
            [
             0.1111111111111111,
             "#46039f"
            ],
            [
             0.2222222222222222,
             "#7201a8"
            ],
            [
             0.3333333333333333,
             "#9c179e"
            ],
            [
             0.4444444444444444,
             "#bd3786"
            ],
            [
             0.5555555555555556,
             "#d8576b"
            ],
            [
             0.6666666666666666,
             "#ed7953"
            ],
            [
             0.7777777777777778,
             "#fb9f3a"
            ],
            [
             0.8888888888888888,
             "#fdca26"
            ],
            [
             1.0,
             "#f0f921"
            ]
           ]
          },
          "colorway": [
           "#636efa",
           "#EF553B",
           "#00cc96",
           "#ab63fa",
           "#FFA15A",
           "#19d3f3",
           "#FF6692",
           "#B6E880",
           "#FF97FF",
           "#FECB52"
          ],
          "font": {
           "color": "#2a3f5f"
          },
          "geo": {
           "bgcolor": "white",
           "lakecolor": "white",
           "landcolor": "#E5ECF6",
           "showlakes": true,
           "showland": true,
           "subunitcolor": "white"
          },
          "hoverlabel": {
           "align": "left"
          },
          "hovermode": "closest",
          "mapbox": {
           "style": "light"
          },
          "paper_bgcolor": "white",
          "plot_bgcolor": "#E5ECF6",
          "polar": {
           "angularaxis": {
            "gridcolor": "white",
            "linecolor": "white",
            "ticks": ""
           },
           "bgcolor": "#E5ECF6",
           "radialaxis": {
            "gridcolor": "white",
            "linecolor": "white",
            "ticks": ""
           }
          },
          "scene": {
           "xaxis": {
            "backgroundcolor": "#E5ECF6",
            "gridcolor": "white",
            "gridwidth": 2,
            "linecolor": "white",
            "showbackground": true,
            "ticks": "",
            "zerolinecolor": "white"
           },
           "yaxis": {
            "backgroundcolor": "#E5ECF6",
            "gridcolor": "white",
            "gridwidth": 2,
            "linecolor": "white",
            "showbackground": true,
            "ticks": "",
            "zerolinecolor": "white"
           },
           "zaxis": {
            "backgroundcolor": "#E5ECF6",
            "gridcolor": "white",
            "gridwidth": 2,
            "linecolor": "white",
            "showbackground": true,
            "ticks": "",
            "zerolinecolor": "white"
           }
          },
          "shapedefaults": {
           "line": {
            "color": "#2a3f5f"
           }
          },
          "ternary": {
           "aaxis": {
            "gridcolor": "white",
            "linecolor": "white",
            "ticks": ""
           },
           "baxis": {
            "gridcolor": "white",
            "linecolor": "white",
            "ticks": ""
           },
           "bgcolor": "#E5ECF6",
           "caxis": {
            "gridcolor": "white",
            "linecolor": "white",
            "ticks": ""
           }
          },
          "title": {
           "x": 0.05
          },
          "xaxis": {
           "automargin": true,
           "gridcolor": "white",
           "linecolor": "white",
           "ticks": "",
           "title": {
            "standoff": 15
           },
           "zerolinecolor": "white",
           "zerolinewidth": 2
          },
          "yaxis": {
           "automargin": true,
           "gridcolor": "white",
           "linecolor": "white",
           "ticks": "",
           "title": {
            "standoff": 15
           },
           "zerolinecolor": "white",
           "zerolinewidth": 2
          }
         }
        },
        "title": {
         "text": "Sunburst Visualization of data"
        },
        "width": 750
       }
      },
      "text/html": [
       "<div>                            <div id=\"16c5bf24-83ad-440a-a881-a96d28f56525\" class=\"plotly-graph-div\" style=\"height:750px; width:750px;\"></div>            <script type=\"text/javascript\">                require([\"plotly\"], function(Plotly) {                    window.PLOTLYENV=window.PLOTLYENV || {};                                    if (document.getElementById(\"16c5bf24-83ad-440a-a881-a96d28f56525\")) {                    Plotly.newPlot(                        \"16c5bf24-83ad-440a-a881-a96d28f56525\",                        [{\"branchvalues\":\"total\",\"domain\":{\"x\":[0.0,1.0],\"y\":[0.0,1.0]},\"hovertemplate\":\"labels=%{label}<br>Count=%{value}<br>parent=%{parent}<br>id=%{id}<extra></extra>\",\"ids\":[\"South/Alabama/0.0\",\"South/Arkansas/0.0\",\"West/California/0.0\",\"East/Connecticut/0.0\",\"East/Delaware/0.0\",\"East/District of Columbia/0.0\",\"South/Georgia/0.0\",\"West/Idaho/0.0\",\"Central/Indiana/0.0\",\"Central/Iowa/0.0\",\"Central/Kansas/0.0\",\"South/Kentucky/0.0\",\"South/Louisiana/0.0\",\"East/Maine/0.0\",\"East/Maryland/0.0\",\"East/Massachusetts/0.0\",\"Central/Michigan/0.0\",\"Central/Minnesota/0.0\",\"South/Mississippi/0.0\",\"Central/Missouri/0.0\",\"West/Montana/0.0\",\"Central/Nebraska/0.0\",\"West/Nevada/0.0\",\"East/New Hampshire/0.0\",\"East/New Jersey/0.0\",\"West/New Mexico/0.0\",\"East/New York/0.0\",\"Central/North Dakota/0.0\",\"Central/Oklahoma/0.0\",\"East/Rhode Island/0.0\",\"South/South Carolina/0.0\",\"Central/South Dakota/0.0\",\"West/Utah/0.0\",\"East/Vermont/0.0\",\"South/Virginia/0.0\",\"West/Washington/0.0\",\"East/West Virginia/0.0\",\"Central/Wisconsin/0.0\",\"Central/Michigan/0.1\",\"East/New York/0.1\",\"West/California/0.15\",\"West/Arizona/0.2\",\"West/California/0.2\",\"West/Colorado/0.2\",\"South/Florida/0.2\",\"West/Idaho/0.2\",\"Central/Illinois/0.2\",\"West/Montana/0.2\",\"West/Nevada/0.2\",\"West/New Mexico/0.2\",\"East/New York/0.2\",\"South/North Carolina/0.2\",\"East/Ohio/0.2\",\"West/Oregon/0.2\",\"East/Pennsylvania/0.2\",\"South/Tennessee/0.2\",\"Central/Texas/0.2\",\"West/Utah/0.2\",\"West/Washington/0.2\",\"West/Wyoming/0.2\",\"East/Connecticut/0.3\",\"East/Delaware/0.3\",\"Central/Illinois/0.3\",\"East/Maryland/0.3\",\"East/Massachusetts/0.3\",\"East/New Hampshire/0.3\",\"East/New Jersey/0.3\",\"East/Ohio/0.3\",\"East/Pennsylvania/0.3\",\"East/Rhode Island/0.3\",\"Central/Texas/0.3\",\"East/West Virginia/0.3\",\"Central/Texas/0.32\",\"East/New York/0.4\",\"South/North Carolina/0.4\",\"East/Ohio/0.4\",\"East/Pennsylvania/0.4\",\"South/Tennessee/0.4\",\"Central/Texas/0.4\",\"South/Florida/0.45\",\"West/Arizona/0.5\",\"West/Colorado/0.5\",\"South/Florida/0.5\",\"Central/Illinois/0.5\",\"South/North Carolina/0.5\",\"East/Ohio/0.5\",\"West/Oregon/0.5\",\"East/Pennsylvania/0.5\",\"South/Tennessee/0.5\",\"Central/Illinois/0.6\",\"Central/Texas/0.6\",\"West/Arizona/0.7\",\"West/Colorado/0.7\",\"South/Florida/0.7\",\"South/North Carolina/0.7\",\"East/Ohio/0.7\",\"West/Oregon/0.7\",\"East/Pennsylvania/0.7\",\"South/Tennessee/0.7\",\"Central/Illinois/0.8\",\"Central/Texas/0.8\",\"South/Alabama\",\"West/Arizona\",\"South/Arkansas\",\"West/California\",\"West/Colorado\",\"East/Connecticut\",\"East/Delaware\",\"East/District of Columbia\",\"South/Florida\",\"South/Georgia\",\"West/Idaho\",\"Central/Illinois\",\"Central/Indiana\",\"Central/Iowa\",\"Central/Kansas\",\"South/Kentucky\",\"South/Louisiana\",\"East/Maine\",\"East/Maryland\",\"East/Massachusetts\",\"Central/Michigan\",\"Central/Minnesota\",\"South/Mississippi\",\"Central/Missouri\",\"West/Montana\",\"Central/Nebraska\",\"West/Nevada\",\"East/New Hampshire\",\"East/New Jersey\",\"West/New Mexico\",\"East/New York\",\"South/North Carolina\",\"Central/North Dakota\",\"East/Ohio\",\"Central/Oklahoma\",\"West/Oregon\",\"East/Pennsylvania\",\"East/Rhode Island\",\"South/South Carolina\",\"Central/South Dakota\",\"South/Tennessee\",\"Central/Texas\",\"West/Utah\",\"East/Vermont\",\"South/Virginia\",\"West/Washington\",\"East/West Virginia\",\"Central/Wisconsin\",\"West/Wyoming\",\"Central\",\"East\",\"South\",\"West\"],\"labels\":[\"0.0\",\"0.0\",\"0.0\",\"0.0\",\"0.0\",\"0.0\",\"0.0\",\"0.0\",\"0.0\",\"0.0\",\"0.0\",\"0.0\",\"0.0\",\"0.0\",\"0.0\",\"0.0\",\"0.0\",\"0.0\",\"0.0\",\"0.0\",\"0.0\",\"0.0\",\"0.0\",\"0.0\",\"0.0\",\"0.0\",\"0.0\",\"0.0\",\"0.0\",\"0.0\",\"0.0\",\"0.0\",\"0.0\",\"0.0\",\"0.0\",\"0.0\",\"0.0\",\"0.0\",\"0.1\",\"0.1\",\"0.15\",\"0.2\",\"0.2\",\"0.2\",\"0.2\",\"0.2\",\"0.2\",\"0.2\",\"0.2\",\"0.2\",\"0.2\",\"0.2\",\"0.2\",\"0.2\",\"0.2\",\"0.2\",\"0.2\",\"0.2\",\"0.2\",\"0.2\",\"0.3\",\"0.3\",\"0.3\",\"0.3\",\"0.3\",\"0.3\",\"0.3\",\"0.3\",\"0.3\",\"0.3\",\"0.3\",\"0.3\",\"0.32\",\"0.4\",\"0.4\",\"0.4\",\"0.4\",\"0.4\",\"0.4\",\"0.45\",\"0.5\",\"0.5\",\"0.5\",\"0.5\",\"0.5\",\"0.5\",\"0.5\",\"0.5\",\"0.5\",\"0.6\",\"0.6\",\"0.7\",\"0.7\",\"0.7\",\"0.7\",\"0.7\",\"0.7\",\"0.7\",\"0.7\",\"0.8\",\"0.8\",\"Alabama\",\"Arizona\",\"Arkansas\",\"California\",\"Colorado\",\"Connecticut\",\"Delaware\",\"District of Columbia\",\"Florida\",\"Georgia\",\"Idaho\",\"Illinois\",\"Indiana\",\"Iowa\",\"Kansas\",\"Kentucky\",\"Louisiana\",\"Maine\",\"Maryland\",\"Massachusetts\",\"Michigan\",\"Minnesota\",\"Mississippi\",\"Missouri\",\"Montana\",\"Nebraska\",\"Nevada\",\"New Hampshire\",\"New Jersey\",\"New Mexico\",\"New York\",\"North Carolina\",\"North Dakota\",\"Ohio\",\"Oklahoma\",\"Oregon\",\"Pennsylvania\",\"Rhode Island\",\"South Carolina\",\"South Dakota\",\"Tennessee\",\"Texas\",\"Utah\",\"Vermont\",\"Virginia\",\"Washington\",\"West Virginia\",\"Wisconsin\",\"Wyoming\",\"Central\",\"East\",\"South\",\"West\"],\"name\":\"\",\"parents\":[\"South/Alabama\",\"South/Arkansas\",\"West/California\",\"East/Connecticut\",\"East/Delaware\",\"East/District of Columbia\",\"South/Georgia\",\"West/Idaho\",\"Central/Indiana\",\"Central/Iowa\",\"Central/Kansas\",\"South/Kentucky\",\"South/Louisiana\",\"East/Maine\",\"East/Maryland\",\"East/Massachusetts\",\"Central/Michigan\",\"Central/Minnesota\",\"South/Mississippi\",\"Central/Missouri\",\"West/Montana\",\"Central/Nebraska\",\"West/Nevada\",\"East/New Hampshire\",\"East/New Jersey\",\"West/New Mexico\",\"East/New York\",\"Central/North Dakota\",\"Central/Oklahoma\",\"East/Rhode Island\",\"South/South Carolina\",\"Central/South Dakota\",\"West/Utah\",\"East/Vermont\",\"South/Virginia\",\"West/Washington\",\"East/West Virginia\",\"Central/Wisconsin\",\"Central/Michigan\",\"East/New York\",\"West/California\",\"West/Arizona\",\"West/California\",\"West/Colorado\",\"South/Florida\",\"West/Idaho\",\"Central/Illinois\",\"West/Montana\",\"West/Nevada\",\"West/New Mexico\",\"East/New York\",\"South/North Carolina\",\"East/Ohio\",\"West/Oregon\",\"East/Pennsylvania\",\"South/Tennessee\",\"Central/Texas\",\"West/Utah\",\"West/Washington\",\"West/Wyoming\",\"East/Connecticut\",\"East/Delaware\",\"Central/Illinois\",\"East/Maryland\",\"East/Massachusetts\",\"East/New Hampshire\",\"East/New Jersey\",\"East/Ohio\",\"East/Pennsylvania\",\"East/Rhode Island\",\"Central/Texas\",\"East/West Virginia\",\"Central/Texas\",\"East/New York\",\"South/North Carolina\",\"East/Ohio\",\"East/Pennsylvania\",\"South/Tennessee\",\"Central/Texas\",\"South/Florida\",\"West/Arizona\",\"West/Colorado\",\"South/Florida\",\"Central/Illinois\",\"South/North Carolina\",\"East/Ohio\",\"West/Oregon\",\"East/Pennsylvania\",\"South/Tennessee\",\"Central/Illinois\",\"Central/Texas\",\"West/Arizona\",\"West/Colorado\",\"South/Florida\",\"South/North Carolina\",\"East/Ohio\",\"West/Oregon\",\"East/Pennsylvania\",\"South/Tennessee\",\"Central/Illinois\",\"Central/Texas\",\"South\",\"West\",\"South\",\"West\",\"West\",\"East\",\"East\",\"East\",\"South\",\"South\",\"West\",\"Central\",\"Central\",\"Central\",\"Central\",\"South\",\"South\",\"East\",\"East\",\"East\",\"Central\",\"Central\",\"South\",\"Central\",\"West\",\"Central\",\"West\",\"East\",\"East\",\"West\",\"East\",\"South\",\"Central\",\"East\",\"Central\",\"West\",\"East\",\"East\",\"South\",\"Central\",\"South\",\"Central\",\"West\",\"East\",\"South\",\"West\",\"East\",\"Central\",\"West\",\"\",\"\",\"\",\"\"],\"type\":\"sunburst\",\"values\":[61,60,1260,80,94,10,184,12,149,30,24,139,42,8,103,128,237,89,53,66,10,38,27,26,128,26,806,7,66,52,42,12,37,11,224,344,3,110,18,76,52,174,689,138,299,9,264,5,12,11,218,201,290,100,354,144,570,16,162,1,2,2,53,2,7,1,2,23,36,4,94,1,27,28,8,67,82,8,13,11,9,4,6,18,4,8,5,10,2,57,81,41,40,67,36,81,19,105,29,100,200,61,224,60,2001,182,82,96,10,383,184,21,492,149,30,24,139,42,8,105,135,255,89,53,66,15,38,39,27,130,37,1128,249,7,469,66,124,587,56,42,12,183,985,53,11,224,506,4,110,1,2323,2848,1620,3203]}],                        {\"height\":750,\"legend\":{\"tracegroupgap\":0},\"template\":{\"data\":{\"bar\":[{\"error_x\":{\"color\":\"#2a3f5f\"},\"error_y\":{\"color\":\"#2a3f5f\"},\"marker\":{\"line\":{\"color\":\"#E5ECF6\",\"width\":0.5},\"pattern\":{\"fillmode\":\"overlay\",\"size\":10,\"solidity\":0.2}},\"type\":\"bar\"}],\"barpolar\":[{\"marker\":{\"line\":{\"color\":\"#E5ECF6\",\"width\":0.5},\"pattern\":{\"fillmode\":\"overlay\",\"size\":10,\"solidity\":0.2}},\"type\":\"barpolar\"}],\"carpet\":[{\"aaxis\":{\"endlinecolor\":\"#2a3f5f\",\"gridcolor\":\"white\",\"linecolor\":\"white\",\"minorgridcolor\":\"white\",\"startlinecolor\":\"#2a3f5f\"},\"baxis\":{\"endlinecolor\":\"#2a3f5f\",\"gridcolor\":\"white\",\"linecolor\":\"white\",\"minorgridcolor\":\"white\",\"startlinecolor\":\"#2a3f5f\"},\"type\":\"carpet\"}],\"choropleth\":[{\"colorbar\":{\"outlinewidth\":0,\"ticks\":\"\"},\"type\":\"choropleth\"}],\"contour\":[{\"colorbar\":{\"outlinewidth\":0,\"ticks\":\"\"},\"colorscale\":[[0.0,\"#0d0887\"],[0.1111111111111111,\"#46039f\"],[0.2222222222222222,\"#7201a8\"],[0.3333333333333333,\"#9c179e\"],[0.4444444444444444,\"#bd3786\"],[0.5555555555555556,\"#d8576b\"],[0.6666666666666666,\"#ed7953\"],[0.7777777777777778,\"#fb9f3a\"],[0.8888888888888888,\"#fdca26\"],[1.0,\"#f0f921\"]],\"type\":\"contour\"}],\"contourcarpet\":[{\"colorbar\":{\"outlinewidth\":0,\"ticks\":\"\"},\"type\":\"contourcarpet\"}],\"heatmap\":[{\"colorbar\":{\"outlinewidth\":0,\"ticks\":\"\"},\"colorscale\":[[0.0,\"#0d0887\"],[0.1111111111111111,\"#46039f\"],[0.2222222222222222,\"#7201a8\"],[0.3333333333333333,\"#9c179e\"],[0.4444444444444444,\"#bd3786\"],[0.5555555555555556,\"#d8576b\"],[0.6666666666666666,\"#ed7953\"],[0.7777777777777778,\"#fb9f3a\"],[0.8888888888888888,\"#fdca26\"],[1.0,\"#f0f921\"]],\"type\":\"heatmap\"}],\"heatmapgl\":[{\"colorbar\":{\"outlinewidth\":0,\"ticks\":\"\"},\"colorscale\":[[0.0,\"#0d0887\"],[0.1111111111111111,\"#46039f\"],[0.2222222222222222,\"#7201a8\"],[0.3333333333333333,\"#9c179e\"],[0.4444444444444444,\"#bd3786\"],[0.5555555555555556,\"#d8576b\"],[0.6666666666666666,\"#ed7953\"],[0.7777777777777778,\"#fb9f3a\"],[0.8888888888888888,\"#fdca26\"],[1.0,\"#f0f921\"]],\"type\":\"heatmapgl\"}],\"histogram\":[{\"marker\":{\"pattern\":{\"fillmode\":\"overlay\",\"size\":10,\"solidity\":0.2}},\"type\":\"histogram\"}],\"histogram2d\":[{\"colorbar\":{\"outlinewidth\":0,\"ticks\":\"\"},\"colorscale\":[[0.0,\"#0d0887\"],[0.1111111111111111,\"#46039f\"],[0.2222222222222222,\"#7201a8\"],[0.3333333333333333,\"#9c179e\"],[0.4444444444444444,\"#bd3786\"],[0.5555555555555556,\"#d8576b\"],[0.6666666666666666,\"#ed7953\"],[0.7777777777777778,\"#fb9f3a\"],[0.8888888888888888,\"#fdca26\"],[1.0,\"#f0f921\"]],\"type\":\"histogram2d\"}],\"histogram2dcontour\":[{\"colorbar\":{\"outlinewidth\":0,\"ticks\":\"\"},\"colorscale\":[[0.0,\"#0d0887\"],[0.1111111111111111,\"#46039f\"],[0.2222222222222222,\"#7201a8\"],[0.3333333333333333,\"#9c179e\"],[0.4444444444444444,\"#bd3786\"],[0.5555555555555556,\"#d8576b\"],[0.6666666666666666,\"#ed7953\"],[0.7777777777777778,\"#fb9f3a\"],[0.8888888888888888,\"#fdca26\"],[1.0,\"#f0f921\"]],\"type\":\"histogram2dcontour\"}],\"mesh3d\":[{\"colorbar\":{\"outlinewidth\":0,\"ticks\":\"\"},\"type\":\"mesh3d\"}],\"parcoords\":[{\"line\":{\"colorbar\":{\"outlinewidth\":0,\"ticks\":\"\"}},\"type\":\"parcoords\"}],\"pie\":[{\"automargin\":true,\"type\":\"pie\"}],\"scatter\":[{\"marker\":{\"colorbar\":{\"outlinewidth\":0,\"ticks\":\"\"}},\"type\":\"scatter\"}],\"scatter3d\":[{\"line\":{\"colorbar\":{\"outlinewidth\":0,\"ticks\":\"\"}},\"marker\":{\"colorbar\":{\"outlinewidth\":0,\"ticks\":\"\"}},\"type\":\"scatter3d\"}],\"scattercarpet\":[{\"marker\":{\"colorbar\":{\"outlinewidth\":0,\"ticks\":\"\"}},\"type\":\"scattercarpet\"}],\"scattergeo\":[{\"marker\":{\"colorbar\":{\"outlinewidth\":0,\"ticks\":\"\"}},\"type\":\"scattergeo\"}],\"scattergl\":[{\"marker\":{\"colorbar\":{\"outlinewidth\":0,\"ticks\":\"\"}},\"type\":\"scattergl\"}],\"scattermapbox\":[{\"marker\":{\"colorbar\":{\"outlinewidth\":0,\"ticks\":\"\"}},\"type\":\"scattermapbox\"}],\"scatterpolar\":[{\"marker\":{\"colorbar\":{\"outlinewidth\":0,\"ticks\":\"\"}},\"type\":\"scatterpolar\"}],\"scatterpolargl\":[{\"marker\":{\"colorbar\":{\"outlinewidth\":0,\"ticks\":\"\"}},\"type\":\"scatterpolargl\"}],\"scatterternary\":[{\"marker\":{\"colorbar\":{\"outlinewidth\":0,\"ticks\":\"\"}},\"type\":\"scatterternary\"}],\"surface\":[{\"colorbar\":{\"outlinewidth\":0,\"ticks\":\"\"},\"colorscale\":[[0.0,\"#0d0887\"],[0.1111111111111111,\"#46039f\"],[0.2222222222222222,\"#7201a8\"],[0.3333333333333333,\"#9c179e\"],[0.4444444444444444,\"#bd3786\"],[0.5555555555555556,\"#d8576b\"],[0.6666666666666666,\"#ed7953\"],[0.7777777777777778,\"#fb9f3a\"],[0.8888888888888888,\"#fdca26\"],[1.0,\"#f0f921\"]],\"type\":\"surface\"}],\"table\":[{\"cells\":{\"fill\":{\"color\":\"#EBF0F8\"},\"line\":{\"color\":\"white\"}},\"header\":{\"fill\":{\"color\":\"#C8D4E3\"},\"line\":{\"color\":\"white\"}},\"type\":\"table\"}]},\"layout\":{\"annotationdefaults\":{\"arrowcolor\":\"#2a3f5f\",\"arrowhead\":0,\"arrowwidth\":1},\"autotypenumbers\":\"strict\",\"coloraxis\":{\"colorbar\":{\"outlinewidth\":0,\"ticks\":\"\"}},\"colorscale\":{\"diverging\":[[0,\"#8e0152\"],[0.1,\"#c51b7d\"],[0.2,\"#de77ae\"],[0.3,\"#f1b6da\"],[0.4,\"#fde0ef\"],[0.5,\"#f7f7f7\"],[0.6,\"#e6f5d0\"],[0.7,\"#b8e186\"],[0.8,\"#7fbc41\"],[0.9,\"#4d9221\"],[1,\"#276419\"]],\"sequential\":[[0.0,\"#0d0887\"],[0.1111111111111111,\"#46039f\"],[0.2222222222222222,\"#7201a8\"],[0.3333333333333333,\"#9c179e\"],[0.4444444444444444,\"#bd3786\"],[0.5555555555555556,\"#d8576b\"],[0.6666666666666666,\"#ed7953\"],[0.7777777777777778,\"#fb9f3a\"],[0.8888888888888888,\"#fdca26\"],[1.0,\"#f0f921\"]],\"sequentialminus\":[[0.0,\"#0d0887\"],[0.1111111111111111,\"#46039f\"],[0.2222222222222222,\"#7201a8\"],[0.3333333333333333,\"#9c179e\"],[0.4444444444444444,\"#bd3786\"],[0.5555555555555556,\"#d8576b\"],[0.6666666666666666,\"#ed7953\"],[0.7777777777777778,\"#fb9f3a\"],[0.8888888888888888,\"#fdca26\"],[1.0,\"#f0f921\"]]},\"colorway\":[\"#636efa\",\"#EF553B\",\"#00cc96\",\"#ab63fa\",\"#FFA15A\",\"#19d3f3\",\"#FF6692\",\"#B6E880\",\"#FF97FF\",\"#FECB52\"],\"font\":{\"color\":\"#2a3f5f\"},\"geo\":{\"bgcolor\":\"white\",\"lakecolor\":\"white\",\"landcolor\":\"#E5ECF6\",\"showlakes\":true,\"showland\":true,\"subunitcolor\":\"white\"},\"hoverlabel\":{\"align\":\"left\"},\"hovermode\":\"closest\",\"mapbox\":{\"style\":\"light\"},\"paper_bgcolor\":\"white\",\"plot_bgcolor\":\"#E5ECF6\",\"polar\":{\"angularaxis\":{\"gridcolor\":\"white\",\"linecolor\":\"white\",\"ticks\":\"\"},\"bgcolor\":\"#E5ECF6\",\"radialaxis\":{\"gridcolor\":\"white\",\"linecolor\":\"white\",\"ticks\":\"\"}},\"scene\":{\"xaxis\":{\"backgroundcolor\":\"#E5ECF6\",\"gridcolor\":\"white\",\"gridwidth\":2,\"linecolor\":\"white\",\"showbackground\":true,\"ticks\":\"\",\"zerolinecolor\":\"white\"},\"yaxis\":{\"backgroundcolor\":\"#E5ECF6\",\"gridcolor\":\"white\",\"gridwidth\":2,\"linecolor\":\"white\",\"showbackground\":true,\"ticks\":\"\",\"zerolinecolor\":\"white\"},\"zaxis\":{\"backgroundcolor\":\"#E5ECF6\",\"gridcolor\":\"white\",\"gridwidth\":2,\"linecolor\":\"white\",\"showbackground\":true,\"ticks\":\"\",\"zerolinecolor\":\"white\"}},\"shapedefaults\":{\"line\":{\"color\":\"#2a3f5f\"}},\"ternary\":{\"aaxis\":{\"gridcolor\":\"white\",\"linecolor\":\"white\",\"ticks\":\"\"},\"baxis\":{\"gridcolor\":\"white\",\"linecolor\":\"white\",\"ticks\":\"\"},\"bgcolor\":\"#E5ECF6\",\"caxis\":{\"gridcolor\":\"white\",\"linecolor\":\"white\",\"ticks\":\"\"}},\"title\":{\"x\":0.05},\"xaxis\":{\"automargin\":true,\"gridcolor\":\"white\",\"linecolor\":\"white\",\"ticks\":\"\",\"title\":{\"standoff\":15},\"zerolinecolor\":\"white\",\"zerolinewidth\":2},\"yaxis\":{\"automargin\":true,\"gridcolor\":\"white\",\"linecolor\":\"white\",\"ticks\":\"\",\"title\":{\"standoff\":15},\"zerolinecolor\":\"white\",\"zerolinewidth\":2}}},\"title\":{\"text\":\"Sunburst Visualization of data\"},\"width\":750},                        {\"responsive\": true}                    ).then(function(){\n",
       "                            \n",
       "var gd = document.getElementById('16c5bf24-83ad-440a-a881-a96d28f56525');\n",
       "var x = new MutationObserver(function (mutations, observer) {{\n",
       "        var display = window.getComputedStyle(gd).display;\n",
       "        if (!display || display === 'none') {{\n",
       "            console.log([gd, 'removed!']);\n",
       "            Plotly.purge(gd);\n",
       "            observer.disconnect();\n",
       "        }}\n",
       "}});\n",
       "\n",
       "// Listen for the removal of the full notebook cells\n",
       "var notebookContainer = gd.closest('#notebook-container');\n",
       "if (notebookContainer) {{\n",
       "    x.observe(notebookContainer, {childList: true});\n",
       "}}\n",
       "\n",
       "// Listen for the clearing of the current output cell\n",
       "var outputEl = gd.closest('.output');\n",
       "if (outputEl) {{\n",
       "    x.observe(outputEl, {childList: true});\n",
       "}}\n",
       "\n",
       "                        })                };                });            </script>        </div>"
      ]
     },
     "metadata": {},
     "output_type": "display_data"
    }
   ],
   "source": [
    "import plotly.express as px \n",
    "fig=px.sunburst(data_sunburst,\n",
    "               path=[\"Region\",\"State\",\"Discount\"],\n",
    "               values=\"Count\",\n",
    "               title=\"Sunburst Visualization of data\",\n",
    "               color_continuous_scale=\"BrBG\",\n",
    "               width=750,height=750)\n",
    "\n",
    "fig.show()"
   ]
  },
  {
   "cell_type": "code",
   "execution_count": 39,
   "id": "5b3fa2f1",
   "metadata": {
    "execution": {
     "iopub.execute_input": "2021-10-07T07:31:39.234610Z",
     "iopub.status.busy": "2021-10-07T07:31:39.221786Z",
     "iopub.status.idle": "2021-10-07T07:31:42.088907Z",
     "shell.execute_reply": "2021-10-07T07:31:42.088264Z",
     "shell.execute_reply.started": "2021-10-07T07:30:03.598767Z"
    },
    "papermill": {
     "duration": 2.956855,
     "end_time": "2021-10-07T07:31:42.089076",
     "exception": false,
     "start_time": "2021-10-07T07:31:39.132221",
     "status": "completed"
    },
    "tags": []
   },
   "outputs": [
    {
     "data": {
      "text/plain": [
       "<seaborn.axisgrid.FacetGrid at 0x7f38edae6750>"
      ]
     },
     "execution_count": 39,
     "metadata": {},
     "output_type": "execute_result"
    },
    {
     "data": {
      "image/png": "[encoded data removed]",
      "text/plain": [
       "<Figure size 420.925x360 with 1 Axes>"
      ]
     },
     "metadata": {},
     "output_type": "display_data"
    }
   ],
   "source": [
    "import seaborn as sns \n",
    "sns.set_theme(style=\"whitegrid\")\n",
    "\n",
    "cmap=sns.cubehelix_palette(rot=-.2,as_cmap=True)\n",
    "g=sns.relplot(data=data_store,\n",
    "             x=\"Region\",y=\"State\",\n",
    "             hue=\"Quantity\",\n",
    "             palette=cmap, sizes=(10, 200),\n",
    "             )\n",
    "g.set(xscale=\"log\",yscale=\"log\")\n",
    "g.ax.xaxis.grid(True,\"minor\",linewidth=.25)\n",
    "g.ax.yaxis.grid(True,\"minor\",linewidth=.25)\n",
    "g.despine(left=True,bottom=True)"
   ]
  },
  {
   "cell_type": "code",
   "execution_count": null,
   "id": "abe8f5c6",
   "metadata": {
    "papermill": {
     "duration": 0.082871,
     "end_time": "2021-10-07T07:31:42.253762",
     "exception": false,
     "start_time": "2021-10-07T07:31:42.170891",
     "status": "completed"
    },
    "tags": []
   },
   "outputs": [],
   "source": []
  }
 ],
 "metadata": {
  "kernelspec": {
   "display_name": "Python 3",
   "language": "python",
   "name": "python3"
  },
  "language_info": {
   "codemirror_mode": {
    "name": "ipython",
    "version": 3
   },
   "file_extension": ".py",
   "mimetype": "text/x-python",
   "name": "python",
   "nbconvert_exporter": "python",
   "pygments_lexer": "ipython3",
   "version": "3.7.10"
  },
  "papermill": {
   "default_parameters": {},
   "duration": 55.877313,
   "end_time": "2021-10-07T07:31:44.277033",
   "environment_variables": {},
   "exception": null,
   "input_path": "__notebook__.ipynb",
   "output_path": "__notebook__.ipynb",
   "parameters": {},
   "start_time": "2021-10-07T07:30:48.399720",
   "version": "2.3.3"
  }
 },
 "nbformat": 4,
 "nbformat_minor": 5
}
